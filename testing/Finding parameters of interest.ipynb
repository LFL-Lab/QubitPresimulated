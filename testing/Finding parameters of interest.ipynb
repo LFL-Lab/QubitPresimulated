{
 "cells": [
  {
   "cell_type": "markdown",
   "id": "03896c4f",
   "metadata": {},
   "source": [
    "# Tutorial: Using QSweeper\n",
    "\n",
    "Scroll down to begin."
   ]
  },
  {
   "cell_type": "code",
   "execution_count": 1,
   "id": "8f56ff64",
   "metadata": {},
   "outputs": [
    {
     "name": "stderr",
     "output_type": "stream",
     "text": [
      "D:\\Users\\lfl\\Anaconda3\\envs\\qiskit-metal\\lib\\site-packages\\pyproj\\__init__.py:91: UserWarning: Valid PROJ data directory not found. Either set the path using the environmental variable PROJ_LIB or with `pyproj.datadir.set_data_dir`.\n",
      "  warnings.warn(str(err))\n"
     ]
    }
   ],
   "source": [
    "%reload_ext autoreload\n",
    "%autoreload 2\n",
    "\n",
    "import qiskit_metal as metal\n",
    "from qiskit_metal import designs, draw\n",
    "from qiskit_metal import MetalGUI, Dict, Headings"
   ]
  },
  {
   "cell_type": "code",
   "execution_count": 3,
   "id": "54916772",
   "metadata": {},
   "outputs": [],
   "source": [
    "design = designs.DesignPlanar({}, True)\n",
    "gui = MetalGUI(design)"
   ]
  },
  {
   "cell_type": "code",
   "execution_count": 4,
   "id": "cda8ea30",
   "metadata": {},
   "outputs": [],
   "source": [
    "from qiskit_metal.qlibrary.qubits.transmon_pocket import TransmonPocket\n",
    "\n",
    "design.delete_all_components()\n",
    "\n",
    "q1 = TransmonPocket(design, 'Q1', options = dict(\n",
    "    pad_width = '425 um',\n",
    "    pocket_height = '650um',\n",
    "    connection_pads=dict(\n",
    "        readout = dict(loc_W=+1,loc_H=+1, pad_width='200um')\n",
    "    )))\n",
    "\n",
    "gui.rebuild()\n",
    "gui.autoscale()"
   ]
  },
  {
   "cell_type": "code",
   "execution_count": 5,
   "id": "f35f2ac2",
   "metadata": {},
   "outputs": [],
   "source": [
    "from qiskit_metal.qlibrary.terminations.open_to_ground import OpenToGround\n",
    "from qiskit_metal.qlibrary.tlines.meandered import RouteMeander\n",
    "otg = OpenToGround(design, 'open_to_ground', options=dict(pos_x='1.75mm',  pos_y='0um', orientation='0'))\n",
    "RouteMeander(design, 'readout',  Dict(\n",
    "        total_length='6 mm',\n",
    "        hfss_wire_bonds = True,\n",
    "        fillet='90 um',\n",
    "        lead = dict(start_straight='100um'),\n",
    "        pin_inputs=Dict(\n",
    "            start_pin=Dict(component='Q1', pin='readout'),\n",
    "            end_pin=Dict(component='open_to_ground', pin='open')), ))\n",
    "\n",
    "gui.rebuild()\n",
    "gui.autoscale()"
   ]
  },
  {
   "cell_type": "code",
   "execution_count": 24,
   "id": "26024c18",
   "metadata": {},
   "outputs": [
    {
     "data": {
      "text/plain": [
       "{'pos_x': '0.0um',\n",
       " 'pos_y': '0.0um',\n",
       " 'orientation': '0.0',\n",
       " 'chip': 'main',\n",
       " 'layer': '1',\n",
       " 'connection_pads': {'readout': {'pad_gap': '15um',\n",
       "   'pad_width': '200um',\n",
       "   'pad_height': '30um',\n",
       "   'pad_cpw_shift': '5um',\n",
       "   'pad_cpw_extent': '25um',\n",
       "   'cpw_width': 'cpw_width',\n",
       "   'cpw_gap': 'cpw_gap',\n",
       "   'cpw_extend': '100um',\n",
       "   'pocket_extent': '5um',\n",
       "   'pocket_rise': '65um',\n",
       "   'loc_W': 1,\n",
       "   'loc_H': 1}},\n",
       " 'pad_gap': '30um',\n",
       " 'inductor_width': '20um',\n",
       " 'pad_width': '425 um',\n",
       " 'pad_height': '90um',\n",
       " 'pocket_width': '650um',\n",
       " 'pocket_height': '650um',\n",
       " 'hfss_wire_bonds': False,\n",
       " 'q3d_wire_bonds': False,\n",
       " 'hfss_inductance': '10nH',\n",
       " 'hfss_capacitance': 0,\n",
       " 'hfss_resistance': 0,\n",
       " 'hfss_mesh_kw_jj': 7e-06,\n",
       " 'q3d_inductance': '10nH',\n",
       " 'q3d_capacitance': 0,\n",
       " 'q3d_resistance': 0,\n",
       " 'q3d_mesh_kw_jj': 7e-06,\n",
       " 'gds_cell_name': 'my_other_junction'}"
      ]
     },
     "execution_count": 24,
     "metadata": {},
     "output_type": "execute_result"
    }
   ],
   "source": [
    "q1.options"
   ]
  },
  {
   "cell_type": "markdown",
   "id": "a2c345dc",
   "metadata": {},
   "source": [
    "## Use EPRanalysis"
   ]
  },
  {
   "cell_type": "code",
   "execution_count": 6,
   "id": "62ee83b3",
   "metadata": {},
   "outputs": [],
   "source": [
    "from qiskit_metal.analyses.quantization import EPRanalysis"
   ]
  },
  {
   "cell_type": "code",
   "execution_count": 7,
   "id": "201e13ed",
   "metadata": {},
   "outputs": [],
   "source": [
    "eig_qb = EPRanalysis(design, \"hfss\")"
   ]
  },
  {
   "cell_type": "code",
   "execution_count": 8,
   "id": "39c792d8",
   "metadata": {},
   "outputs": [
    {
     "data": {
      "text/plain": [
       "{'name': 'Setup',\n",
       " 'reuse_selected_design': False,\n",
       " 'reuse_setup': True,\n",
       " 'min_freq_ghz': 1.1,\n",
       " 'n_modes': 2,\n",
       " 'max_delta_f': 0.4,\n",
       " 'max_passes': 6,\n",
       " 'min_passes': 1,\n",
       " 'min_converged': 1,\n",
       " 'pct_refinement': 30,\n",
       " 'basis_order': 1,\n",
       " 'vars': {'Lj': '11 nH', 'Cj': '0 fF'}}"
      ]
     },
     "execution_count": 8,
     "metadata": {},
     "output_type": "execute_result"
    }
   ],
   "source": [
    "# example: update single setting\n",
    "eig_qb.sim.setup.max_passes = 6\n",
    "eig_qb.sim.setup.vars.Lj = '11 nH'\n",
    "eig_qb.sim.setup.reuse_selected_design = False\n",
    "# example: update multiple settings\n",
    "eig_qb.sim.setup_update(max_delta_f = 0.4, min_freq_ghz = 1.1)\n",
    "\n",
    "eig_qb.sim.setup.n_modes = 2\n",
    "\n",
    "eig_qb.sim.setup"
   ]
  },
  {
   "cell_type": "code",
   "execution_count": 9,
   "id": "e08585cb",
   "metadata": {},
   "outputs": [
    {
     "data": {
      "text/plain": [
       "{'junctions': {'jj': {'Lj_variable': 'Lj',\n",
       "   'Cj_variable': 'Cj',\n",
       "   'rect': 'JJ_rect_Lj_Q1_rect_jj',\n",
       "   'line': 'JJ_Lj_Q1_rect_jj_'}},\n",
       " 'dissipatives': {'dielectrics_bulk': ['main']},\n",
       " 'cos_trunc': 8,\n",
       " 'fock_trunc': 7,\n",
       " 'sweep_variable': 'Lj'}"
      ]
     },
     "execution_count": 9,
     "metadata": {},
     "output_type": "execute_result"
    }
   ],
   "source": [
    "eig_qb.setup.junctions.jj.rect = 'JJ_rect_Lj_Q1_rect_jj'\n",
    "eig_qb.setup.junctions.jj.line = 'JJ_Lj_Q1_rect_jj_'\n",
    "eig_qb.setup"
   ]
  },
  {
   "cell_type": "markdown",
   "id": "75de4eb8",
   "metadata": {},
   "source": [
    "# START OF TUTORIAL: Setup QSweeper"
   ]
  },
  {
   "cell_type": "code",
   "execution_count": 22,
   "id": "76bcbc75",
   "metadata": {},
   "outputs": [],
   "source": [
    "import sys; sys.path.append(r\"D:/Clark\")"
   ]
  },
  {
   "cell_type": "code",
   "execution_count": 23,
   "id": "738f2c3c",
   "metadata": {},
   "outputs": [],
   "source": [
    "from QubitPresimulated.sweeper import QSweeper\n",
    "\n",
    "# It has one initalization input, which is a QAnalysis module\n",
    "# In this case: type(eig_qb) is EPRanalysis\n",
    "sweeper = QSweeper(eig_qb)"
   ]
  },
  {
   "cell_type": "code",
   "execution_count": 27,
   "id": "a4e6064d",
   "metadata": {},
   "outputs": [
    {
     "name": "stderr",
     "output_type": "stream",
     "text": [
      "  0%|                                                                                            | 0/2 [00:00<?, ?it/s]INFO 04:37PM [connect_design]: \tOpened active design\n",
      "\tDesign:    Design_hfss1 [Solution type: Eigenmode]\n",
      "WARNING 04:37PM [connect_setup]: \tNo design setup detected.\n",
      "WARNING 04:37PM [connect_setup]: \tCreating eigenmode default setup.\n",
      "INFO 04:37PM [get_setup]: \tOpened setup `Setup`  (<class 'pyEPR.ansys.HfssEMSetup'>)\n",
      "INFO 04:37PM [get_setup]: \tOpened setup `Setup`  (<class 'pyEPR.ansys.HfssEMSetup'>)\n",
      "INFO 04:37PM [analyze]: Analyzing setup Setup\n",
      "WARNING:py.warnings:D:\\Users\\lfl\\Anaconda3\\envs\\qiskit-metal\\lib\\site-packages\\pyEPR\\ansys.py:1222: FutureWarning: In a future version of pandas all arguments of DataFrame.drop except for the argument 'labels' will be keyword-only\n",
      "  df = pd.read_csv(io.StringIO(text2[3].strip()),\n",
      "\n",
      "04:38PM 00s INFO [get_f_convergence]: Saved convergences to D:\\Clark\\QubitPresimulated\\testing\\hfss_eig_f_convergence.csv\n"
     ]
    },
    {
     "name": "stdout",
     "output_type": "stream",
     "text": [
      "Design \"Design_hfss1\" info:\n",
      "\t# eigenmodes    2\n",
      "\t# variations    1\n",
      "Design \"Design_hfss1\" info:\n",
      "\t# eigenmodes    2\n",
      "\t# variations    1\n",
      "\n",
      "        energy_elec_all       = 7.3653550535357e-24\n",
      "        energy_elec_substrate = 6.7100334870998e-24\n",
      "        EPR of substrate = 91.1%\n",
      "\n",
      "        energy_mag    = 6.64713632452063e-26\n",
      "        energy_mag % of energy_elec_all  = 0.9%\n",
      "        \n",
      "\n",
      "Variation 0  [1/1]\n",
      "\n",
      "  \u001b[1mMode 0 at 6.05 GHz   [1/2]\u001b[0m\n",
      "    Calculating ℰ_magnetic,ℰ_electric\n",
      "       (ℰ_E-ℰ_H)/ℰ_E       ℰ_E       ℰ_H\n",
      "               99.1%  3.683e-24 3.324e-26\n",
      "\n",
      "    Calculating junction energy participation ration (EPR)\n",
      "\tmethod=`line_voltage`. First estimates:\n",
      "\tjunction        EPR p_0j   sign s_0j    (p_capacitive)\n",
      "\t\tEnergy fraction (Lj over Lj&Cj)= 96.92%\n",
      "\tjj              0.900578  (+)        0.0286249\n",
      "\t\t(U_tot_cap-U_tot_ind)/mean=6.14%\n",
      "Calculating Qdielectric_main for mode 0 (0/1)\n",
      "p_dielectric_main_0 = 0.9110264798271583\n",
      "\n",
      "  \u001b[1mMode 1 at 8.89 GHz   [2/2]\u001b[0m\n",
      "    Calculating ℰ_magnetic,ℰ_electric\n",
      "       (ℰ_E-ℰ_H)/ℰ_E       ℰ_E       ℰ_H\n",
      "                0.3%  1.252e-24 1.248e-24\n",
      "\n",
      "    Calculating junction energy participation ration (EPR)\n",
      "\tmethod=`line_voltage`. First estimates:\n",
      "\tjunction        EPR p_1j   sign s_1j    (p_capacitive)\n",
      "\t\tEnergy fraction (Lj over Lj&Cj)= 93.58%\n",
      "\tjj              0.00305531  (+)        0.000209582\n",
      "\t\t(U_tot_cap-U_tot_ind)/mean=0.01%\n",
      "Calculating Qdielectric_main for mode 1 (1/1)\n"
     ]
    },
    {
     "name": "stderr",
     "output_type": "stream",
     "text": [
      "WARNING:py.warnings:D:\\Users\\lfl\\Anaconda3\\envs\\qiskit-metal\\lib\\site-packages\\pyEPR\\ansys.py:1250: FutureWarning: In a future version of pandas all arguments of DataFrame.drop except for the argument 'labels' will be keyword-only\n",
      "  df = df.drop('Unnamed: 9', 1)\n",
      "\n"
     ]
    },
    {
     "name": "stdout",
     "output_type": "stream",
     "text": [
      "p_dielectric_main_1 = 0.9045205981557303\n"
     ]
    },
    {
     "name": "stderr",
     "output_type": "stream",
     "text": [
      "WARNING 04:38PM [__init__]: <p>Error: <class 'IndexError'></p>\n"
     ]
    },
    {
     "name": "stdout",
     "output_type": "stream",
     "text": [
      "\n",
      "ANALYSIS DONE. Data saved to:\n",
      "\n",
      "C:\\data-pyEPR\\Project45\\Design_hfss1\\2023-01-11 16-38-00.npz\n",
      "\n",
      "\n",
      "\t Differences in variations:\n",
      "\n",
      "\n",
      "\n",
      " . . . . . . . . . . . . . . . . . . . . . . . . . . . . . . . . . . . . . . . . \n",
      "Variation 0\n",
      "\n",
      "Starting the diagonalization\n",
      "Finished the diagonalization\n",
      "Pm_norm=\n",
      "modes\n",
      "0    1.131546\n",
      "1    1.045867\n",
      "dtype: float64\n",
      "\n",
      "Pm_norm idx =\n",
      "      jj\n",
      "0   True\n",
      "1  False\n",
      "*** P (participation matrix, not normlz.)\n",
      "         jj\n",
      "0  0.875517\n",
      "1  0.003055\n",
      "\n",
      "*** S (sign-bit matrix)\n",
      "   s_jj\n",
      "0     1\n",
      "1     1\n",
      "*** P (participation matrix, normalized.)\n",
      "      0.99\n",
      "    0.0031\n",
      "\n",
      "*** Chi matrix O1 PT (MHz)\n",
      "    Diag is anharmonicity, off diag is full cross-Kerr.\n",
      "       302     2.74\n",
      "      2.74   0.0062\n",
      "\n",
      "*** Chi matrix ND (MHz) \n",
      "       339     2.27\n",
      "      2.27  0.00432\n",
      "\n",
      "*** Frequencies O1 PT (MHz)\n",
      "0    5746.006056\n",
      "1    8885.698915\n",
      "dtype: float64\n",
      "\n",
      "*** Frequencies ND (MHz)\n",
      "0    5728.670118\n",
      "1    8885.765618\n",
      "dtype: float64\n",
      "\n",
      "*** Q_coupling\n",
      "Empty DataFrame\n",
      "Columns: []\n",
      "Index: [0, 1]\n"
     ]
    },
    {
     "name": "stderr",
     "output_type": "stream",
     "text": [
      "\r",
      " 50%|██████████████████████████████████████████                                          | 1/2 [01:12<01:12, 72.54s/it]"
     ]
    },
    {
     "name": "stdout",
     "output_type": "stream",
     "text": [
      "Simulated and logged configuration: {'pad_width': '425 um', 'pad_height': '90um'}\n"
     ]
    },
    {
     "name": "stderr",
     "output_type": "stream",
     "text": [
      "Traceback (most recent call last):\n",
      "  File \"D:\\Users\\lfl\\Anaconda3\\envs\\qiskit-metal\\lib\\site-packages\\matplotlib\\backends\\backend_qt.py\", line 455, in _draw_idle\n",
      "    self.draw()\n",
      "  File \"D:\\Users\\lfl\\Anaconda3\\envs\\qiskit-metal\\lib\\site-packages\\matplotlib\\backends\\backend_agg.py\", line 436, in draw\n",
      "    self.figure.draw(self.renderer)\n",
      "  File \"D:\\Users\\lfl\\Anaconda3\\envs\\qiskit-metal\\lib\\site-packages\\matplotlib\\artist.py\", line 73, in draw_wrapper\n",
      "    result = draw(artist, renderer, *args, **kwargs)\n",
      "  File \"D:\\Users\\lfl\\Anaconda3\\envs\\qiskit-metal\\lib\\site-packages\\matplotlib\\artist.py\", line 50, in draw_wrapper\n",
      "    return draw(artist, renderer)\n",
      "  File \"D:\\Users\\lfl\\Anaconda3\\envs\\qiskit-metal\\lib\\site-packages\\matplotlib\\figure.py\", line 2810, in draw\n",
      "    mimage._draw_list_compositing_images(\n",
      "  File \"D:\\Users\\lfl\\Anaconda3\\envs\\qiskit-metal\\lib\\site-packages\\matplotlib\\image.py\", line 132, in _draw_list_compositing_images\n",
      "    a.draw(renderer)\n",
      "  File \"D:\\Users\\lfl\\Anaconda3\\envs\\qiskit-metal\\lib\\site-packages\\matplotlib\\artist.py\", line 50, in draw_wrapper\n",
      "    return draw(artist, renderer)\n",
      "  File \"D:\\Users\\lfl\\Anaconda3\\envs\\qiskit-metal\\lib\\site-packages\\matplotlib\\axes\\_base.py\", line 3082, in draw\n",
      "    mimage._draw_list_compositing_images(\n",
      "  File \"D:\\Users\\lfl\\Anaconda3\\envs\\qiskit-metal\\lib\\site-packages\\matplotlib\\image.py\", line 132, in _draw_list_compositing_images\n",
      "    a.draw(renderer)\n",
      "  File \"D:\\Users\\lfl\\Anaconda3\\envs\\qiskit-metal\\lib\\site-packages\\matplotlib\\artist.py\", line 50, in draw_wrapper\n",
      "    return draw(artist, renderer)\n",
      "  File \"D:\\Users\\lfl\\Anaconda3\\envs\\qiskit-metal\\lib\\site-packages\\matplotlib\\axis.py\", line 1158, in draw\n",
      "    ticks_to_draw = self._update_ticks()\n",
      "  File \"D:\\Users\\lfl\\Anaconda3\\envs\\qiskit-metal\\lib\\site-packages\\matplotlib\\axis.py\", line 1045, in _update_ticks\n",
      "    major_locs = self.get_majorticklocs()\n",
      "  File \"D:\\Users\\lfl\\Anaconda3\\envs\\qiskit-metal\\lib\\site-packages\\matplotlib\\axis.py\", line 1277, in get_majorticklocs\n",
      "    return self.major.locator()\n",
      "  File \"D:\\Users\\lfl\\Anaconda3\\envs\\qiskit-metal\\lib\\site-packages\\matplotlib\\ticker.py\", line 2292, in __call__\n",
      "    return self.tick_values(vmin, vmax)\n",
      "  File \"D:\\Users\\lfl\\Anaconda3\\envs\\qiskit-metal\\lib\\site-packages\\matplotlib\\ticker.py\", line 2317, in tick_values\n",
      "    raise ValueError(\n",
      "ValueError: Data has no positive values, and therefore can not be log-scaled.\n",
      "INFO 04:38PM [connect_design]: \tOpened active design\n",
      "\tDesign:    Design_hfss2 [Solution type: Eigenmode]\n",
      "WARNING 04:38PM [connect_setup]: \tNo design setup detected.\n",
      "WARNING 04:38PM [connect_setup]: \tCreating eigenmode default setup.\n",
      "INFO 04:38PM [get_setup]: \tOpened setup `Setup`  (<class 'pyEPR.ansys.HfssEMSetup'>)\n",
      "INFO 04:38PM [get_setup]: \tOpened setup `Setup`  (<class 'pyEPR.ansys.HfssEMSetup'>)\n",
      "INFO 04:38PM [analyze]: Analyzing setup Setup\n",
      "WARNING:py.warnings:D:\\Users\\lfl\\Anaconda3\\envs\\qiskit-metal\\lib\\site-packages\\pyEPR\\ansys.py:1222: FutureWarning: In a future version of pandas all arguments of DataFrame.drop except for the argument 'labels' will be keyword-only\n",
      "  df = pd.read_csv(io.StringIO(text2[3].strip()),\n",
      "\n",
      "04:39PM 18s INFO [get_f_convergence]: Saved convergences to D:\\Clark\\QubitPresimulated\\testing\\hfss_eig_f_convergence.csv\n"
     ]
    },
    {
     "name": "stdout",
     "output_type": "stream",
     "text": [
      "Design \"Design_hfss2\" info:\n",
      "\t# eigenmodes    2\n",
      "\t# variations    1\n",
      "Design \"Design_hfss2\" info:\n",
      "\t# eigenmodes    2\n",
      "\t# variations    1\n",
      "\n",
      "        energy_elec_all       = 7.72609879831189e-24\n",
      "        energy_elec_substrate = 7.08787370004939e-24\n",
      "        EPR of substrate = 91.7%\n",
      "\n",
      "        energy_mag    = 6.50413259343627e-26\n",
      "        energy_mag % of energy_elec_all  = 0.8%\n",
      "        \n",
      "\n",
      "Variation 0  [1/1]\n",
      "\n",
      "  \u001b[1mMode 0 at 5.63 GHz   [1/2]\u001b[0m\n",
      "    Calculating ℰ_magnetic,ℰ_electric\n",
      "       (ℰ_E-ℰ_H)/ℰ_E       ℰ_E       ℰ_H\n",
      "               99.2%  3.863e-24 3.252e-26\n",
      "\n",
      "    Calculating junction energy participation ration (EPR)\n",
      "\tmethod=`line_voltage`. First estimates:\n",
      "\tjunction        EPR p_0j   sign s_0j    (p_capacitive)\n",
      "\t\tEnergy fraction (Lj over Lj&Cj)= 97.32%\n",
      "\tjj              0.901132  (+)        0.0247681\n",
      "\t\t(U_tot_cap-U_tot_ind)/mean=5.96%\n",
      "Calculating Qdielectric_main for mode 0 (0/1)\n",
      "p_dielectric_main_0 = 0.9173936141740837\n",
      "\n",
      "  \u001b[1mMode 1 at 9.07 GHz   [2/2]\u001b[0m\n",
      "    Calculating ℰ_magnetic,ℰ_electric\n",
      "       (ℰ_E-ℰ_H)/ℰ_E       ℰ_E       ℰ_H\n",
      "                0.2%  1.905e-24   1.9e-24\n",
      "\n",
      "    Calculating junction energy participation ration (EPR)\n",
      "\tmethod=`line_voltage`. First estimates:\n",
      "\tjunction        EPR p_1j   sign s_1j    (p_capacitive)\n",
      "\t\tEnergy fraction (Lj over Lj&Cj)= 93.33%\n",
      "\tjj              0.00202877  (+)        0.000144896\n",
      "\t\t(U_tot_cap-U_tot_ind)/mean=0.02%\n",
      "Calculating Qdielectric_main for mode 1 (1/1)\n"
     ]
    },
    {
     "name": "stderr",
     "output_type": "stream",
     "text": [
      "WARNING:py.warnings:D:\\Users\\lfl\\Anaconda3\\envs\\qiskit-metal\\lib\\site-packages\\pyEPR\\ansys.py:1250: FutureWarning: In a future version of pandas all arguments of DataFrame.drop except for the argument 'labels' will be keyword-only\n",
      "  df = df.drop('Unnamed: 9', 1)\n",
      "\n"
     ]
    },
    {
     "name": "stdout",
     "output_type": "stream",
     "text": [
      "p_dielectric_main_1 = 0.9098747575049807\n"
     ]
    },
    {
     "name": "stderr",
     "output_type": "stream",
     "text": [
      "WARNING 04:39PM [__init__]: <p>Error: <class 'IndexError'></p>\n"
     ]
    },
    {
     "name": "stdout",
     "output_type": "stream",
     "text": [
      "\n",
      "ANALYSIS DONE. Data saved to:\n",
      "\n",
      "C:\\data-pyEPR\\Project45\\Design_hfss2\\2023-01-11 16-39-18.npz\n",
      "\n",
      "\n",
      "\t Differences in variations:\n",
      "\n",
      "\n",
      "\n",
      " . . . . . . . . . . . . . . . . . . . . . . . . . . . . . . . . . . . . . . . . \n",
      "Variation 0\n",
      "\n",
      "Starting the diagonalization\n",
      "Finished the diagonalization\n",
      "Pm_norm=\n",
      "modes\n",
      "0    1.127302\n",
      "1    1.085079\n",
      "dtype: float64\n",
      "\n",
      "Pm_norm idx =\n",
      "      jj\n",
      "0   True\n",
      "1  False\n",
      "*** P (participation matrix, not normlz.)\n",
      "         jj\n",
      "0  0.879353\n",
      "1  0.002028\n",
      "\n",
      "*** S (sign-bit matrix)\n",
      "   s_jj\n",
      "0     1\n",
      "1     1\n",
      "*** P (participation matrix, normalized.)\n",
      "      0.99\n",
      "     0.002\n",
      "\n",
      "*** Chi matrix O1 PT (MHz)\n",
      "    Diag is anharmonicity, off diag is full cross-Kerr.\n",
      "       262     1.73\n",
      "      1.73  0.00285\n",
      "\n",
      "*** Chi matrix ND (MHz) \n",
      "       291     1.55\n",
      "      1.55  0.00225\n",
      "\n",
      "*** Frequencies O1 PT (MHz)\n",
      "0    5363.041775\n",
      "1    9067.311583\n",
      "dtype: float64\n",
      "\n",
      "*** Frequencies ND (MHz)\n",
      "0    5349.299028\n",
      "1    9067.330974\n",
      "dtype: float64\n",
      "\n",
      "*** Q_coupling\n",
      "Empty DataFrame\n",
      "Columns: []\n",
      "Index: [0, 1]\n"
     ]
    },
    {
     "name": "stderr",
     "output_type": "stream",
     "text": [
      "100%|████████████████████████████████████████████████████████████████████████████████████| 2/2 [02:30<00:00, 75.27s/it]"
     ]
    },
    {
     "name": "stdout",
     "output_type": "stream",
     "text": [
      "Simulated and logged configuration: {'pad_width': '425 um', 'pad_height': '135um'}\n"
     ]
    },
    {
     "name": "stderr",
     "output_type": "stream",
     "text": [
      "\n"
     ]
    },
    {
     "data": {
      "text/plain": [
       "<QubitPresimulated.librarian.QLibrarian at 0x28bea018730>"
      ]
     },
     "execution_count": 27,
     "metadata": {},
     "output_type": "execute_result"
    },
    {
     "name": "stderr",
     "output_type": "stream",
     "text": [
      "Traceback (most recent call last):\n",
      "  File \"D:\\Users\\lfl\\Anaconda3\\envs\\qiskit-metal\\lib\\site-packages\\matplotlib\\backends\\backend_qt.py\", line 455, in _draw_idle\n",
      "    self.draw()\n",
      "  File \"D:\\Users\\lfl\\Anaconda3\\envs\\qiskit-metal\\lib\\site-packages\\matplotlib\\backends\\backend_agg.py\", line 436, in draw\n",
      "    self.figure.draw(self.renderer)\n",
      "  File \"D:\\Users\\lfl\\Anaconda3\\envs\\qiskit-metal\\lib\\site-packages\\matplotlib\\artist.py\", line 73, in draw_wrapper\n",
      "    result = draw(artist, renderer, *args, **kwargs)\n",
      "  File \"D:\\Users\\lfl\\Anaconda3\\envs\\qiskit-metal\\lib\\site-packages\\matplotlib\\artist.py\", line 50, in draw_wrapper\n",
      "    return draw(artist, renderer)\n",
      "  File \"D:\\Users\\lfl\\Anaconda3\\envs\\qiskit-metal\\lib\\site-packages\\matplotlib\\figure.py\", line 2810, in draw\n",
      "    mimage._draw_list_compositing_images(\n",
      "  File \"D:\\Users\\lfl\\Anaconda3\\envs\\qiskit-metal\\lib\\site-packages\\matplotlib\\image.py\", line 132, in _draw_list_compositing_images\n",
      "    a.draw(renderer)\n",
      "  File \"D:\\Users\\lfl\\Anaconda3\\envs\\qiskit-metal\\lib\\site-packages\\matplotlib\\artist.py\", line 50, in draw_wrapper\n",
      "    return draw(artist, renderer)\n",
      "  File \"D:\\Users\\lfl\\Anaconda3\\envs\\qiskit-metal\\lib\\site-packages\\matplotlib\\axes\\_base.py\", line 3082, in draw\n",
      "    mimage._draw_list_compositing_images(\n",
      "  File \"D:\\Users\\lfl\\Anaconda3\\envs\\qiskit-metal\\lib\\site-packages\\matplotlib\\image.py\", line 132, in _draw_list_compositing_images\n",
      "    a.draw(renderer)\n",
      "  File \"D:\\Users\\lfl\\Anaconda3\\envs\\qiskit-metal\\lib\\site-packages\\matplotlib\\artist.py\", line 50, in draw_wrapper\n",
      "    return draw(artist, renderer)\n",
      "  File \"D:\\Users\\lfl\\Anaconda3\\envs\\qiskit-metal\\lib\\site-packages\\matplotlib\\axis.py\", line 1158, in draw\n",
      "    ticks_to_draw = self._update_ticks()\n",
      "  File \"D:\\Users\\lfl\\Anaconda3\\envs\\qiskit-metal\\lib\\site-packages\\matplotlib\\axis.py\", line 1045, in _update_ticks\n",
      "    major_locs = self.get_majorticklocs()\n",
      "  File \"D:\\Users\\lfl\\Anaconda3\\envs\\qiskit-metal\\lib\\site-packages\\matplotlib\\axis.py\", line 1277, in get_majorticklocs\n",
      "    return self.major.locator()\n",
      "  File \"D:\\Users\\lfl\\Anaconda3\\envs\\qiskit-metal\\lib\\site-packages\\matplotlib\\ticker.py\", line 2292, in __call__\n",
      "    return self.tick_values(vmin, vmax)\n",
      "  File \"D:\\Users\\lfl\\Anaconda3\\envs\\qiskit-metal\\lib\\site-packages\\matplotlib\\ticker.py\", line 2317, in tick_values\n",
      "    raise ValueError(\n",
      "ValueError: Data has no positive values, and therefore can not be log-scaled.\n"
     ]
    }
   ],
   "source": [
    "# Tell the program which component you want to sweep through\n",
    "target_component = 'Q1'\n",
    "\n",
    "# and which parameter to change. The format of this dict is the same as\n",
    "# QComponent.options. So if you want to change claw_length:\n",
    "# parameters_to_sweep = {'connection_pads':{'res_claw':{'claw_length':[1,2,3]}}}\n",
    "\n",
    "# Basically, instead of having strings / floats as values\n",
    "# you now have lists of values you want to sweep over.\n",
    "parameters_to_sweep = {'pad_width': ['425 um'],\n",
    "                       'pad_height': ['90um', '135um']}\n",
    "\n",
    "# Anything after save_path is put in **kwargs which gets sent to\n",
    "# analysis.run(**kwargs)\n",
    "sweeper.run_sweep(component_name = target_component,\n",
    "                  parameters = parameters_to_sweep,\n",
    "                  data_name = None,\n",
    "                  save_path = r'./finding_parameters.csv',\n",
    "                  components=['Q1', 'readout', 'open_to_ground'],\n",
    "                  open_terminations=[('readout', 'end')]) # REQUIRED: must declare components= for this to wor\n"
   ]
  },
  {
   "cell_type": "code",
   "execution_count": 32,
   "id": "7a06cae6",
   "metadata": {},
   "outputs": [
    {
     "data": {
      "text/plain": [
       "0     90um\n",
       "1    135um\n",
       "Name: pad_height, dtype: object"
      ]
     },
     "execution_count": 32,
     "metadata": {},
     "output_type": "execute_result"
    }
   ],
   "source": [
    "sweeper.librarian.qoptions['pad_height']"
   ]
  },
  {
   "cell_type": "code",
   "execution_count": 37,
   "id": "36ba4b00",
   "metadata": {},
   "outputs": [
    {
     "data": {
      "text/plain": [
       "0    0    6049.509517\n",
       "1    8887.073683\n",
       "Name: 0, dty...\n",
       "1    0    5625.490630\n",
       "1    9068.177289\n",
       "Name: 0, dty...\n",
       "Name: f_0, dtype: object"
      ]
     },
     "execution_count": 37,
     "metadata": {},
     "output_type": "execute_result"
    }
   ],
   "source": [
    "sims = sweeper.librarian.simulations\n",
    "sims['f_0']"
   ]
  },
  {
   "cell_type": "code",
   "execution_count": null,
   "id": "bcca7f95",
   "metadata": {},
   "outputs": [],
   "source": []
  },
  {
   "cell_type": "markdown",
   "id": "4f0f58d5",
   "metadata": {},
   "source": [
    "# Start here"
   ]
  },
  {
   "cell_type": "code",
   "execution_count": 11,
   "id": "66bbbab8",
   "metadata": {},
   "outputs": [],
   "source": [
    "ansys = eig_qb.sim.renderer"
   ]
  },
  {
   "cell_type": "code",
   "execution_count": 12,
   "id": "c325cd10",
   "metadata": {},
   "outputs": [
    {
     "name": "stdout",
     "output_type": "stream",
     "text": [
      "Design \"Qbit_hfss3\" info:\n",
      "\t# eigenmodes    2\n",
      "\t# variations    1\n",
      "Design \"Qbit_hfss3\" info:\n",
      "\t# eigenmodes    2\n",
      "\t# variations    1\n",
      "\n",
      "        energy_elec_all       = 7.3653550535357e-24\n",
      "        energy_elec_substrate = 6.7100334870998e-24\n",
      "        EPR of substrate = 91.1%\n",
      "\n",
      "        energy_mag    = 6.64713632452063e-26\n",
      "        energy_mag % of energy_elec_all  = 0.9%\n",
      "        \n",
      "\n",
      "Variation 0  [1/1]\n",
      "\n",
      "  \u001b[1mMode 0 at 6.05 GHz   [1/2]\u001b[0m\n",
      "    Calculating ℰ_magnetic,ℰ_electric\n",
      "       (ℰ_E-ℰ_H)/ℰ_E       ℰ_E       ℰ_H\n",
      "               99.1%  3.683e-24 3.324e-26\n",
      "\n",
      "    Calculating junction energy participation ration (EPR)\n",
      "\tmethod=`line_voltage`. First estimates:\n",
      "\tjunction        EPR p_0j   sign s_0j    (p_capacitive)\n",
      "\t\tEnergy fraction (Lj over Lj&Cj)= 96.92%\n",
      "\tjj              0.900578  (+)        0.0286249\n",
      "\t\t(U_tot_cap-U_tot_ind)/mean=6.14%\n",
      "Calculating Qdielectric_main for mode 0 (0/1)\n",
      "p_dielectric_main_0 = 0.9110264798271583\n",
      "\n",
      "  \u001b[1mMode 1 at 8.89 GHz   [2/2]\u001b[0m\n",
      "    Calculating ℰ_magnetic,ℰ_electric\n",
      "       (ℰ_E-ℰ_H)/ℰ_E       ℰ_E       ℰ_H\n",
      "                0.3%  1.252e-24 1.248e-24\n",
      "\n",
      "    Calculating junction energy participation ration (EPR)\n",
      "\tmethod=`line_voltage`. First estimates:\n",
      "\tjunction        EPR p_1j   sign s_1j    (p_capacitive)\n",
      "\t\tEnergy fraction (Lj over Lj&Cj)= 93.58%\n",
      "\tjj              0.00305531  (+)        0.000209582\n",
      "\t\t(U_tot_cap-U_tot_ind)/mean=0.01%\n",
      "Calculating Qdielectric_main for mode 1 (1/1)\n"
     ]
    },
    {
     "name": "stderr",
     "output_type": "stream",
     "text": [
      "WARNING:py.warnings:D:\\Users\\lfl\\Anaconda3\\envs\\qiskit-metal\\lib\\site-packages\\pyEPR\\ansys.py:1250: FutureWarning: In a future version of pandas all arguments of DataFrame.drop except for the argument 'labels' will be keyword-only\n",
      "  df = df.drop('Unnamed: 9', 1)\n",
      "\n"
     ]
    },
    {
     "name": "stdout",
     "output_type": "stream",
     "text": [
      "p_dielectric_main_1 = 0.9045205981557303\n"
     ]
    },
    {
     "name": "stderr",
     "output_type": "stream",
     "text": [
      "WARNING 04:18PM [__init__]: <p>Error: <class 'IndexError'></p>\n"
     ]
    },
    {
     "name": "stdout",
     "output_type": "stream",
     "text": [
      "\n",
      "ANALYSIS DONE. Data saved to:\n",
      "\n",
      "C:\\data-pyEPR\\Project45\\Qbit_hfss3\\2023-01-11 16-18-19.npz\n",
      "\n",
      "\n",
      "\t Differences in variations:\n",
      "\n",
      "\n",
      "\n",
      " . . . . . . . . . . . . . . . . . . . . . . . . . . . . . . . . . . . . . . . . \n",
      "Variation 0\n",
      "\n",
      "Starting the diagonalization\n",
      "Finished the diagonalization\n",
      "Pm_norm=\n",
      "modes\n",
      "0    1.131546\n",
      "1    1.045867\n",
      "dtype: float64\n",
      "\n",
      "Pm_norm idx =\n",
      "      jj\n",
      "0   True\n",
      "1  False\n",
      "*** P (participation matrix, not normlz.)\n",
      "         jj\n",
      "0  0.875517\n",
      "1  0.003055\n",
      "\n",
      "*** S (sign-bit matrix)\n",
      "   s_jj\n",
      "0     1\n",
      "1     1\n",
      "*** P (participation matrix, normalized.)\n",
      "      0.99\n",
      "    0.0031\n",
      "\n",
      "*** Chi matrix O1 PT (MHz)\n",
      "    Diag is anharmonicity, off diag is full cross-Kerr.\n",
      "       302     2.74\n",
      "      2.74   0.0062\n",
      "\n",
      "*** Chi matrix ND (MHz) \n",
      "       339     2.27\n",
      "      2.27  0.00432\n",
      "\n",
      "*** Frequencies O1 PT (MHz)\n",
      "0    5746.006056\n",
      "1    8885.698915\n",
      "dtype: float64\n",
      "\n",
      "*** Frequencies ND (MHz)\n",
      "0    5728.670118\n",
      "1    8885.765618\n",
      "dtype: float64\n",
      "\n",
      "*** Q_coupling\n",
      "Empty DataFrame\n",
      "Columns: []\n",
      "Index: [0, 1]\n"
     ]
    },
    {
     "ename": "ValueError",
     "evalue": "Data has no positive values, and therefore can not be log-scaled.",
     "output_type": "error",
     "traceback": [
      "\u001b[1;31m---------------------------------------------------------------------------\u001b[0m",
      "\u001b[1;31mValueError\u001b[0m                                Traceback (most recent call last)",
      "\u001b[1;32m~\\AppData\\Local\\Temp/ipykernel_44540/2802591885.py\u001b[0m in \u001b[0;36m<module>\u001b[1;34m\u001b[0m\n\u001b[1;32m----> 1\u001b[1;33m \u001b[0meig_qb\u001b[0m\u001b[1;33m.\u001b[0m\u001b[0mrun_epr\u001b[0m\u001b[1;33m(\u001b[0m\u001b[1;33m)\u001b[0m\u001b[1;33m\u001b[0m\u001b[1;33m\u001b[0m\u001b[0m\n\u001b[0m",
      "\u001b[1;32md:\\users\\lfl\\documents\\qiskit-metal\\qiskit_metal\\analyses\\quantization\\energy_participation_ratio.py\u001b[0m in \u001b[0;36mrun_epr\u001b[1;34m(self, no_junctions)\u001b[0m\n\u001b[0;32m    173\u001b[0m             \u001b[0mself\u001b[0m\u001b[1;33m.\u001b[0m\u001b[0mspectrum_analysis\u001b[0m\u001b[1;33m(\u001b[0m\u001b[0mself\u001b[0m\u001b[1;33m.\u001b[0m\u001b[0msetup\u001b[0m\u001b[1;33m.\u001b[0m\u001b[0mcos_trunc\u001b[0m\u001b[1;33m,\u001b[0m \u001b[0mself\u001b[0m\u001b[1;33m.\u001b[0m\u001b[0msetup\u001b[0m\u001b[1;33m.\u001b[0m\u001b[0mfock_trunc\u001b[0m\u001b[1;33m)\u001b[0m\u001b[1;33m\u001b[0m\u001b[1;33m\u001b[0m\u001b[0m\n\u001b[0;32m    174\u001b[0m             \u001b[1;32mtry\u001b[0m\u001b[1;33m:\u001b[0m\u001b[1;33m\u001b[0m\u001b[1;33m\u001b[0m\u001b[0m\n\u001b[1;32m--> 175\u001b[1;33m                 \u001b[0mself\u001b[0m\u001b[1;33m.\u001b[0m\u001b[0mreport_hamiltonian\u001b[0m\u001b[1;33m(\u001b[0m\u001b[0mself\u001b[0m\u001b[1;33m.\u001b[0m\u001b[0msetup\u001b[0m\u001b[1;33m.\u001b[0m\u001b[0msweep_variable\u001b[0m\u001b[1;33m)\u001b[0m\u001b[1;33m\u001b[0m\u001b[1;33m\u001b[0m\u001b[0m\n\u001b[0m\u001b[0;32m    176\u001b[0m             \u001b[1;32mexcept\u001b[0m \u001b[0mAttributeError\u001b[0m\u001b[1;33m:\u001b[0m\u001b[1;33m\u001b[0m\u001b[1;33m\u001b[0m\u001b[0m\n\u001b[0;32m    177\u001b[0m                 self.logger.error(\n",
      "\u001b[1;32md:\\users\\lfl\\documents\\qiskit-metal\\qiskit_metal\\analyses\\quantization\\energy_participation_ratio.py\u001b[0m in \u001b[0;36mreport_hamiltonian\u001b[1;34m(self, sweep_variable, numeric)\u001b[0m\n\u001b[0;32m    229\u001b[0m         \u001b[0mEventually\u001b[0m\u001b[1;33m,\u001b[0m \u001b[0mthe\u001b[0m \u001b[0manalysis\u001b[0m \u001b[0mcode\u001b[0m \u001b[0mneeds\u001b[0m \u001b[0mto\u001b[0m \u001b[0mbe\u001b[0m \u001b[0monly\u001b[0m \u001b[0mhere\u001b[0m\u001b[1;33m,\u001b[0m \u001b[1;32mand\u001b[0m \u001b[0mthe\u001b[0m \u001b[0mrenderer\u001b[0m \u001b[0mmethod\u001b[0m \u001b[0mdeprecated\u001b[0m\u001b[1;33m.\u001b[0m\u001b[1;33m\u001b[0m\u001b[1;33m\u001b[0m\u001b[0m\n\u001b[0;32m    230\u001b[0m         \"\"\"\n\u001b[1;32m--> 231\u001b[1;33m         \u001b[0mself\u001b[0m\u001b[1;33m.\u001b[0m\u001b[0msim\u001b[0m\u001b[1;33m.\u001b[0m\u001b[0mrenderer\u001b[0m\u001b[1;33m.\u001b[0m\u001b[0mepr_report_hamiltonian\u001b[0m\u001b[1;33m(\u001b[0m\u001b[0msweep_variable\u001b[0m\u001b[1;33m,\u001b[0m \u001b[0mnumeric\u001b[0m\u001b[1;33m)\u001b[0m\u001b[1;33m\u001b[0m\u001b[1;33m\u001b[0m\u001b[0m\n\u001b[0m\u001b[0;32m    232\u001b[0m \u001b[1;33m\u001b[0m\u001b[0m\n\u001b[0;32m    233\u001b[0m     \u001b[1;32mdef\u001b[0m \u001b[0mget_frequencies\u001b[0m\u001b[1;33m(\u001b[0m\u001b[0mself\u001b[0m\u001b[1;33m)\u001b[0m\u001b[1;33m:\u001b[0m\u001b[1;33m\u001b[0m\u001b[1;33m\u001b[0m\u001b[0m\n",
      "\u001b[1;32md:\\users\\lfl\\documents\\qiskit-metal\\qiskit_metal\\renderers\\renderer_ansys\\ansys_renderer.py\u001b[0m in \u001b[0;36mepr_report_hamiltonian\u001b[1;34m(self, swp_variable, numeric)\u001b[0m\n\u001b[0;32m   1778\u001b[0m             \u001b[0mswp_variable\u001b[0m \u001b[1;33m(\u001b[0m\u001b[0mstr\u001b[0m\u001b[1;33m,\u001b[0m \u001b[0moptional\u001b[0m\u001b[1;33m)\u001b[0m\u001b[1;33m:\u001b[0m \u001b[0mVariable\u001b[0m \u001b[0magainst\u001b[0m \u001b[0mwhich\u001b[0m \u001b[0mwe\u001b[0m \u001b[0mswept\u001b[0m\u001b[1;33m.\u001b[0m \u001b[0mDefaults\u001b[0m \u001b[0mto\u001b[0m \u001b[1;34m'variation'\u001b[0m\u001b[1;33m.\u001b[0m\u001b[1;33m\u001b[0m\u001b[1;33m\u001b[0m\u001b[0m\n\u001b[0;32m   1779\u001b[0m         \"\"\"\n\u001b[1;32m-> 1780\u001b[1;33m         self.epr_quantum_analysis.plot_hamiltonian_results(\n\u001b[0m\u001b[0;32m   1781\u001b[0m             swp_variable=swp_variable)\n\u001b[0;32m   1782\u001b[0m         self.epr_quantum_analysis.report_results(swp_variable=swp_variable,\n",
      "\u001b[1;32mD:\\Users\\lfl\\Anaconda3\\envs\\qiskit-metal\\lib\\site-packages\\pyEPR\\core_quantum_analysis.py\u001b[0m in \u001b[0;36mplot_hamiltonian_results\u001b[1;34m(self, swp_variable, variations, fig, x_label)\u001b[0m\n\u001b[0;32m    960\u001b[0m \u001b[1;33m\u001b[0m\u001b[0m\n\u001b[0;32m    961\u001b[0m         \u001b[1;31m# Wrap up\u001b[0m\u001b[1;33m\u001b[0m\u001b[1;33m\u001b[0m\u001b[0m\n\u001b[1;32m--> 962\u001b[1;33m         \u001b[0mfig\u001b[0m\u001b[1;33m.\u001b[0m\u001b[0mtight_layout\u001b[0m\u001b[1;33m(\u001b[0m\u001b[1;33m)\u001b[0m\u001b[1;33m\u001b[0m\u001b[1;33m\u001b[0m\u001b[0m\n\u001b[0m\u001b[0;32m    963\u001b[0m \u001b[1;33m\u001b[0m\u001b[0m\n\u001b[0;32m    964\u001b[0m         \u001b[1;32mreturn\u001b[0m \u001b[0mfig\u001b[0m\u001b[1;33m,\u001b[0m \u001b[0maxs\u001b[0m\u001b[1;33m\u001b[0m\u001b[1;33m\u001b[0m\u001b[0m\n",
      "\u001b[1;32mD:\\Users\\lfl\\Anaconda3\\envs\\qiskit-metal\\lib\\site-packages\\matplotlib\\figure.py\u001b[0m in \u001b[0;36mtight_layout\u001b[1;34m(self, pad, h_pad, w_pad, rect)\u001b[0m\n\u001b[0;32m   3195\u001b[0m         \u001b[0mrenderer\u001b[0m \u001b[1;33m=\u001b[0m \u001b[0m_get_renderer\u001b[0m\u001b[1;33m(\u001b[0m\u001b[0mself\u001b[0m\u001b[1;33m)\u001b[0m\u001b[1;33m\u001b[0m\u001b[1;33m\u001b[0m\u001b[0m\n\u001b[0;32m   3196\u001b[0m         \u001b[1;32mwith\u001b[0m \u001b[0mgetattr\u001b[0m\u001b[1;33m(\u001b[0m\u001b[0mrenderer\u001b[0m\u001b[1;33m,\u001b[0m \u001b[1;34m\"_draw_disabled\"\u001b[0m\u001b[1;33m,\u001b[0m \u001b[0mnullcontext\u001b[0m\u001b[1;33m)\u001b[0m\u001b[1;33m(\u001b[0m\u001b[1;33m)\u001b[0m\u001b[1;33m:\u001b[0m\u001b[1;33m\u001b[0m\u001b[1;33m\u001b[0m\u001b[0m\n\u001b[1;32m-> 3197\u001b[1;33m             kwargs = get_tight_layout_figure(\n\u001b[0m\u001b[0;32m   3198\u001b[0m                 \u001b[0mself\u001b[0m\u001b[1;33m,\u001b[0m \u001b[0mself\u001b[0m\u001b[1;33m.\u001b[0m\u001b[0maxes\u001b[0m\u001b[1;33m,\u001b[0m \u001b[0msubplotspec_list\u001b[0m\u001b[1;33m,\u001b[0m \u001b[0mrenderer\u001b[0m\u001b[1;33m,\u001b[0m\u001b[1;33m\u001b[0m\u001b[1;33m\u001b[0m\u001b[0m\n\u001b[0;32m   3199\u001b[0m                 pad=pad, h_pad=h_pad, w_pad=w_pad, rect=rect)\n",
      "\u001b[1;32mD:\\Users\\lfl\\Anaconda3\\envs\\qiskit-metal\\lib\\site-packages\\matplotlib\\tight_layout.py\u001b[0m in \u001b[0;36mget_tight_layout_figure\u001b[1;34m(fig, axes_list, subplotspec_list, renderer, pad, h_pad, w_pad, rect)\u001b[0m\n\u001b[0;32m    318\u001b[0m             slice(ss.colspan.start * div_col, ss.colspan.stop * div_col)))\n\u001b[0;32m    319\u001b[0m \u001b[1;33m\u001b[0m\u001b[0m\n\u001b[1;32m--> 320\u001b[1;33m     kwargs = _auto_adjust_subplotpars(fig, renderer,\n\u001b[0m\u001b[0;32m    321\u001b[0m                                       \u001b[0mshape\u001b[0m\u001b[1;33m=\u001b[0m\u001b[1;33m(\u001b[0m\u001b[0mmax_nrows\u001b[0m\u001b[1;33m,\u001b[0m \u001b[0mmax_ncols\u001b[0m\u001b[1;33m)\u001b[0m\u001b[1;33m,\u001b[0m\u001b[1;33m\u001b[0m\u001b[1;33m\u001b[0m\u001b[0m\n\u001b[0;32m    322\u001b[0m                                       \u001b[0mspan_pairs\u001b[0m\u001b[1;33m=\u001b[0m\u001b[0mspan_pairs\u001b[0m\u001b[1;33m,\u001b[0m\u001b[1;33m\u001b[0m\u001b[1;33m\u001b[0m\u001b[0m\n",
      "\u001b[1;32mD:\\Users\\lfl\\Anaconda3\\envs\\qiskit-metal\\lib\\site-packages\\matplotlib\\tight_layout.py\u001b[0m in \u001b[0;36m_auto_adjust_subplotpars\u001b[1;34m(fig, renderer, shape, span_pairs, subplot_list, ax_bbox_list, pad, h_pad, w_pad, rect)\u001b[0m\n\u001b[0;32m     80\u001b[0m             \u001b[1;32mif\u001b[0m \u001b[0max\u001b[0m\u001b[1;33m.\u001b[0m\u001b[0mget_visible\u001b[0m\u001b[1;33m(\u001b[0m\u001b[1;33m)\u001b[0m\u001b[1;33m:\u001b[0m\u001b[1;33m\u001b[0m\u001b[1;33m\u001b[0m\u001b[0m\n\u001b[0;32m     81\u001b[0m                 \u001b[1;32mtry\u001b[0m\u001b[1;33m:\u001b[0m\u001b[1;33m\u001b[0m\u001b[1;33m\u001b[0m\u001b[0m\n\u001b[1;32m---> 82\u001b[1;33m                     \u001b[0mbb\u001b[0m \u001b[1;33m+=\u001b[0m \u001b[1;33m[\u001b[0m\u001b[0max\u001b[0m\u001b[1;33m.\u001b[0m\u001b[0mget_tightbbox\u001b[0m\u001b[1;33m(\u001b[0m\u001b[0mrenderer\u001b[0m\u001b[1;33m,\u001b[0m \u001b[0mfor_layout_only\u001b[0m\u001b[1;33m=\u001b[0m\u001b[1;32mTrue\u001b[0m\u001b[1;33m)\u001b[0m\u001b[1;33m]\u001b[0m\u001b[1;33m\u001b[0m\u001b[1;33m\u001b[0m\u001b[0m\n\u001b[0m\u001b[0;32m     83\u001b[0m                 \u001b[1;32mexcept\u001b[0m \u001b[0mTypeError\u001b[0m\u001b[1;33m:\u001b[0m\u001b[1;33m\u001b[0m\u001b[1;33m\u001b[0m\u001b[0m\n\u001b[0;32m     84\u001b[0m                     \u001b[0mbb\u001b[0m \u001b[1;33m+=\u001b[0m \u001b[1;33m[\u001b[0m\u001b[0max\u001b[0m\u001b[1;33m.\u001b[0m\u001b[0mget_tightbbox\u001b[0m\u001b[1;33m(\u001b[0m\u001b[0mrenderer\u001b[0m\u001b[1;33m)\u001b[0m\u001b[1;33m]\u001b[0m\u001b[1;33m\u001b[0m\u001b[1;33m\u001b[0m\u001b[0m\n",
      "\u001b[1;32mD:\\Users\\lfl\\Anaconda3\\envs\\qiskit-metal\\lib\\site-packages\\matplotlib\\axes\\_base.py\u001b[0m in \u001b[0;36mget_tightbbox\u001b[1;34m(self, renderer, call_axes_locator, bbox_extra_artists, for_layout_only)\u001b[0m\n\u001b[0;32m   4626\u001b[0m             \u001b[1;32mif\u001b[0m \u001b[0mself\u001b[0m\u001b[1;33m.\u001b[0m\u001b[0myaxis\u001b[0m\u001b[1;33m.\u001b[0m\u001b[0mget_visible\u001b[0m\u001b[1;33m(\u001b[0m\u001b[1;33m)\u001b[0m\u001b[1;33m:\u001b[0m\u001b[1;33m\u001b[0m\u001b[1;33m\u001b[0m\u001b[0m\n\u001b[0;32m   4627\u001b[0m                 \u001b[1;32mtry\u001b[0m\u001b[1;33m:\u001b[0m\u001b[1;33m\u001b[0m\u001b[1;33m\u001b[0m\u001b[0m\n\u001b[1;32m-> 4628\u001b[1;33m                     bb_yaxis = self.yaxis.get_tightbbox(\n\u001b[0m\u001b[0;32m   4629\u001b[0m                         renderer, for_layout_only=for_layout_only)\n\u001b[0;32m   4630\u001b[0m                 \u001b[1;32mexcept\u001b[0m \u001b[0mTypeError\u001b[0m\u001b[1;33m:\u001b[0m\u001b[1;33m\u001b[0m\u001b[1;33m\u001b[0m\u001b[0m\n",
      "\u001b[1;32mD:\\Users\\lfl\\Anaconda3\\envs\\qiskit-metal\\lib\\site-packages\\matplotlib\\axis.py\u001b[0m in \u001b[0;36mget_tightbbox\u001b[1;34m(self, renderer, for_layout_only)\u001b[0m\n\u001b[0;32m   1101\u001b[0m             \u001b[1;32mreturn\u001b[0m\u001b[1;33m\u001b[0m\u001b[1;33m\u001b[0m\u001b[0m\n\u001b[0;32m   1102\u001b[0m \u001b[1;33m\u001b[0m\u001b[0m\n\u001b[1;32m-> 1103\u001b[1;33m         \u001b[0mticks_to_draw\u001b[0m \u001b[1;33m=\u001b[0m \u001b[0mself\u001b[0m\u001b[1;33m.\u001b[0m\u001b[0m_update_ticks\u001b[0m\u001b[1;33m(\u001b[0m\u001b[1;33m)\u001b[0m\u001b[1;33m\u001b[0m\u001b[1;33m\u001b[0m\u001b[0m\n\u001b[0m\u001b[0;32m   1104\u001b[0m \u001b[1;33m\u001b[0m\u001b[0m\n\u001b[0;32m   1105\u001b[0m         \u001b[0mself\u001b[0m\u001b[1;33m.\u001b[0m\u001b[0m_update_label_position\u001b[0m\u001b[1;33m(\u001b[0m\u001b[0mrenderer\u001b[0m\u001b[1;33m)\u001b[0m\u001b[1;33m\u001b[0m\u001b[1;33m\u001b[0m\u001b[0m\n",
      "\u001b[1;32mD:\\Users\\lfl\\Anaconda3\\envs\\qiskit-metal\\lib\\site-packages\\matplotlib\\axis.py\u001b[0m in \u001b[0;36m_update_ticks\u001b[1;34m(self)\u001b[0m\n\u001b[0;32m   1043\u001b[0m         \u001b[0mthe\u001b[0m \u001b[0maxes\u001b[0m\u001b[1;33m.\u001b[0m  \u001b[0mReturn\u001b[0m \u001b[0mthe\u001b[0m \u001b[0mlist\u001b[0m \u001b[0mof\u001b[0m \u001b[0mticks\u001b[0m \u001b[0mthat\u001b[0m \u001b[0mwill\u001b[0m \u001b[0mbe\u001b[0m \u001b[0mdrawn\u001b[0m\u001b[1;33m.\u001b[0m\u001b[1;33m\u001b[0m\u001b[1;33m\u001b[0m\u001b[0m\n\u001b[0;32m   1044\u001b[0m         \"\"\"\n\u001b[1;32m-> 1045\u001b[1;33m         \u001b[0mmajor_locs\u001b[0m \u001b[1;33m=\u001b[0m \u001b[0mself\u001b[0m\u001b[1;33m.\u001b[0m\u001b[0mget_majorticklocs\u001b[0m\u001b[1;33m(\u001b[0m\u001b[1;33m)\u001b[0m\u001b[1;33m\u001b[0m\u001b[1;33m\u001b[0m\u001b[0m\n\u001b[0m\u001b[0;32m   1046\u001b[0m         \u001b[0mmajor_labels\u001b[0m \u001b[1;33m=\u001b[0m \u001b[0mself\u001b[0m\u001b[1;33m.\u001b[0m\u001b[0mmajor\u001b[0m\u001b[1;33m.\u001b[0m\u001b[0mformatter\u001b[0m\u001b[1;33m.\u001b[0m\u001b[0mformat_ticks\u001b[0m\u001b[1;33m(\u001b[0m\u001b[0mmajor_locs\u001b[0m\u001b[1;33m)\u001b[0m\u001b[1;33m\u001b[0m\u001b[1;33m\u001b[0m\u001b[0m\n\u001b[0;32m   1047\u001b[0m         \u001b[0mmajor_ticks\u001b[0m \u001b[1;33m=\u001b[0m \u001b[0mself\u001b[0m\u001b[1;33m.\u001b[0m\u001b[0mget_major_ticks\u001b[0m\u001b[1;33m(\u001b[0m\u001b[0mlen\u001b[0m\u001b[1;33m(\u001b[0m\u001b[0mmajor_locs\u001b[0m\u001b[1;33m)\u001b[0m\u001b[1;33m)\u001b[0m\u001b[1;33m\u001b[0m\u001b[1;33m\u001b[0m\u001b[0m\n",
      "\u001b[1;32mD:\\Users\\lfl\\Anaconda3\\envs\\qiskit-metal\\lib\\site-packages\\matplotlib\\axis.py\u001b[0m in \u001b[0;36mget_majorticklocs\u001b[1;34m(self)\u001b[0m\n\u001b[0;32m   1275\u001b[0m     \u001b[1;32mdef\u001b[0m \u001b[0mget_majorticklocs\u001b[0m\u001b[1;33m(\u001b[0m\u001b[0mself\u001b[0m\u001b[1;33m)\u001b[0m\u001b[1;33m:\u001b[0m\u001b[1;33m\u001b[0m\u001b[1;33m\u001b[0m\u001b[0m\n\u001b[0;32m   1276\u001b[0m         \u001b[1;34m\"\"\"Return this Axis' major tick locations in data coordinates.\"\"\"\u001b[0m\u001b[1;33m\u001b[0m\u001b[1;33m\u001b[0m\u001b[0m\n\u001b[1;32m-> 1277\u001b[1;33m         \u001b[1;32mreturn\u001b[0m \u001b[0mself\u001b[0m\u001b[1;33m.\u001b[0m\u001b[0mmajor\u001b[0m\u001b[1;33m.\u001b[0m\u001b[0mlocator\u001b[0m\u001b[1;33m(\u001b[0m\u001b[1;33m)\u001b[0m\u001b[1;33m\u001b[0m\u001b[1;33m\u001b[0m\u001b[0m\n\u001b[0m\u001b[0;32m   1278\u001b[0m \u001b[1;33m\u001b[0m\u001b[0m\n\u001b[0;32m   1279\u001b[0m     \u001b[1;32mdef\u001b[0m \u001b[0mget_minorticklocs\u001b[0m\u001b[1;33m(\u001b[0m\u001b[0mself\u001b[0m\u001b[1;33m)\u001b[0m\u001b[1;33m:\u001b[0m\u001b[1;33m\u001b[0m\u001b[1;33m\u001b[0m\u001b[0m\n",
      "\u001b[1;32mD:\\Users\\lfl\\Anaconda3\\envs\\qiskit-metal\\lib\\site-packages\\matplotlib\\ticker.py\u001b[0m in \u001b[0;36m__call__\u001b[1;34m(self)\u001b[0m\n\u001b[0;32m   2290\u001b[0m         \u001b[1;34m\"\"\"Return the locations of the ticks.\"\"\"\u001b[0m\u001b[1;33m\u001b[0m\u001b[1;33m\u001b[0m\u001b[0m\n\u001b[0;32m   2291\u001b[0m         \u001b[0mvmin\u001b[0m\u001b[1;33m,\u001b[0m \u001b[0mvmax\u001b[0m \u001b[1;33m=\u001b[0m \u001b[0mself\u001b[0m\u001b[1;33m.\u001b[0m\u001b[0maxis\u001b[0m\u001b[1;33m.\u001b[0m\u001b[0mget_view_interval\u001b[0m\u001b[1;33m(\u001b[0m\u001b[1;33m)\u001b[0m\u001b[1;33m\u001b[0m\u001b[1;33m\u001b[0m\u001b[0m\n\u001b[1;32m-> 2292\u001b[1;33m         \u001b[1;32mreturn\u001b[0m \u001b[0mself\u001b[0m\u001b[1;33m.\u001b[0m\u001b[0mtick_values\u001b[0m\u001b[1;33m(\u001b[0m\u001b[0mvmin\u001b[0m\u001b[1;33m,\u001b[0m \u001b[0mvmax\u001b[0m\u001b[1;33m)\u001b[0m\u001b[1;33m\u001b[0m\u001b[1;33m\u001b[0m\u001b[0m\n\u001b[0m\u001b[0;32m   2293\u001b[0m \u001b[1;33m\u001b[0m\u001b[0m\n\u001b[0;32m   2294\u001b[0m     \u001b[1;32mdef\u001b[0m \u001b[0mtick_values\u001b[0m\u001b[1;33m(\u001b[0m\u001b[0mself\u001b[0m\u001b[1;33m,\u001b[0m \u001b[0mvmin\u001b[0m\u001b[1;33m,\u001b[0m \u001b[0mvmax\u001b[0m\u001b[1;33m)\u001b[0m\u001b[1;33m:\u001b[0m\u001b[1;33m\u001b[0m\u001b[1;33m\u001b[0m\u001b[0m\n",
      "\u001b[1;32mD:\\Users\\lfl\\Anaconda3\\envs\\qiskit-metal\\lib\\site-packages\\matplotlib\\ticker.py\u001b[0m in \u001b[0;36mtick_values\u001b[1;34m(self, vmin, vmax)\u001b[0m\n\u001b[0;32m   2315\u001b[0m \u001b[1;33m\u001b[0m\u001b[0m\n\u001b[0;32m   2316\u001b[0m             \u001b[1;32mif\u001b[0m \u001b[0mvmin\u001b[0m \u001b[1;33m<=\u001b[0m \u001b[1;36m0.0\u001b[0m \u001b[1;32mor\u001b[0m \u001b[1;32mnot\u001b[0m \u001b[0mnp\u001b[0m\u001b[1;33m.\u001b[0m\u001b[0misfinite\u001b[0m\u001b[1;33m(\u001b[0m\u001b[0mvmin\u001b[0m\u001b[1;33m)\u001b[0m\u001b[1;33m:\u001b[0m\u001b[1;33m\u001b[0m\u001b[1;33m\u001b[0m\u001b[0m\n\u001b[1;32m-> 2317\u001b[1;33m                 raise ValueError(\n\u001b[0m\u001b[0;32m   2318\u001b[0m                     \u001b[1;34m\"Data has no positive values, and therefore can not be \"\u001b[0m\u001b[1;33m\u001b[0m\u001b[1;33m\u001b[0m\u001b[0m\n\u001b[0;32m   2319\u001b[0m                     \"log-scaled.\")\n",
      "\u001b[1;31mValueError\u001b[0m: Data has no positive values, and therefore can not be log-scaled."
     ]
    },
    {
     "name": "stderr",
     "output_type": "stream",
     "text": [
      "Traceback (most recent call last):\n",
      "  File \"D:\\Users\\lfl\\Anaconda3\\envs\\qiskit-metal\\lib\\site-packages\\matplotlib\\backends\\backend_qt.py\", line 455, in _draw_idle\n",
      "    self.draw()\n",
      "  File \"D:\\Users\\lfl\\Anaconda3\\envs\\qiskit-metal\\lib\\site-packages\\matplotlib\\backends\\backend_agg.py\", line 436, in draw\n",
      "    self.figure.draw(self.renderer)\n",
      "  File \"D:\\Users\\lfl\\Anaconda3\\envs\\qiskit-metal\\lib\\site-packages\\matplotlib\\artist.py\", line 73, in draw_wrapper\n",
      "    result = draw(artist, renderer, *args, **kwargs)\n",
      "  File \"D:\\Users\\lfl\\Anaconda3\\envs\\qiskit-metal\\lib\\site-packages\\matplotlib\\artist.py\", line 50, in draw_wrapper\n",
      "    return draw(artist, renderer)\n",
      "  File \"D:\\Users\\lfl\\Anaconda3\\envs\\qiskit-metal\\lib\\site-packages\\matplotlib\\figure.py\", line 2810, in draw\n",
      "    mimage._draw_list_compositing_images(\n",
      "  File \"D:\\Users\\lfl\\Anaconda3\\envs\\qiskit-metal\\lib\\site-packages\\matplotlib\\image.py\", line 132, in _draw_list_compositing_images\n",
      "    a.draw(renderer)\n",
      "  File \"D:\\Users\\lfl\\Anaconda3\\envs\\qiskit-metal\\lib\\site-packages\\matplotlib\\artist.py\", line 50, in draw_wrapper\n",
      "    return draw(artist, renderer)\n",
      "  File \"D:\\Users\\lfl\\Anaconda3\\envs\\qiskit-metal\\lib\\site-packages\\matplotlib\\axes\\_base.py\", line 3082, in draw\n",
      "    mimage._draw_list_compositing_images(\n",
      "  File \"D:\\Users\\lfl\\Anaconda3\\envs\\qiskit-metal\\lib\\site-packages\\matplotlib\\image.py\", line 132, in _draw_list_compositing_images\n",
      "    a.draw(renderer)\n",
      "  File \"D:\\Users\\lfl\\Anaconda3\\envs\\qiskit-metal\\lib\\site-packages\\matplotlib\\artist.py\", line 50, in draw_wrapper\n",
      "    return draw(artist, renderer)\n",
      "  File \"D:\\Users\\lfl\\Anaconda3\\envs\\qiskit-metal\\lib\\site-packages\\matplotlib\\axis.py\", line 1158, in draw\n",
      "    ticks_to_draw = self._update_ticks()\n",
      "  File \"D:\\Users\\lfl\\Anaconda3\\envs\\qiskit-metal\\lib\\site-packages\\matplotlib\\axis.py\", line 1045, in _update_ticks\n",
      "    major_locs = self.get_majorticklocs()\n",
      "  File \"D:\\Users\\lfl\\Anaconda3\\envs\\qiskit-metal\\lib\\site-packages\\matplotlib\\axis.py\", line 1277, in get_majorticklocs\n",
      "    return self.major.locator()\n",
      "  File \"D:\\Users\\lfl\\Anaconda3\\envs\\qiskit-metal\\lib\\site-packages\\matplotlib\\ticker.py\", line 2292, in __call__\n",
      "    return self.tick_values(vmin, vmax)\n",
      "  File \"D:\\Users\\lfl\\Anaconda3\\envs\\qiskit-metal\\lib\\site-packages\\matplotlib\\ticker.py\", line 2317, in tick_values\n",
      "    raise ValueError(\n",
      "ValueError: Data has no positive values, and therefore can not be log-scaled.\n"
     ]
    }
   ],
   "source": [
    "eig_qb.run_epr()"
   ]
  },
  {
   "cell_type": "markdown",
   "id": "f4d66446",
   "metadata": {},
   "source": [
    "## Found $\\omega_q$"
   ]
  },
  {
   "cell_type": "code",
   "execution_count": 18,
   "id": "f1bf55b6",
   "metadata": {},
   "outputs": [
    {
     "data": {
      "text/plain": [
       "HamiltonianResultsContainer([('0',\n",
       "                              OrderedDict([('f_0', 0    6049.509517\n",
       "                                            1    8887.073683\n",
       "                                            Name: 0, dtype: float64),\n",
       "                                           ('f_1',\n",
       "                                            0    5746.006056\n",
       "                                            1    8885.698915\n",
       "                                            dtype: float64),\n",
       "                                           ('f_ND',\n",
       "                                            0    5728.670118\n",
       "                                            1    8885.765618\n",
       "                                            dtype: float64),\n",
       "                                           ('chi_O1',\n",
       "                                                        0         1\n",
       "                                            0  302.134893  2.737137\n",
       "                                            1    2.737137  0.006199),\n",
       "                                           ('chi_ND',\n",
       "                                                        0         1\n",
       "                                            0  338.694868  2.268713\n",
       "                                            1    2.268713  0.004322),\n",
       "                                           ('ZPF',\n",
       "                                            array([[0.44905756],\n",
       "                                                   [0.03022281]])),\n",
       "                                           ('Pm_normed',\n",
       "                                            array([[0.99068751],\n",
       "                                                   [0.00305467]])),\n",
       "                                           ('Pm_raw',\n",
       "                                            0    0.875517\n",
       "                                            1    0.003055\n",
       "                                            Name: jj, dtype: float64),\n",
       "                                           ('_Pm_norm',\n",
       "                                            modes\n",
       "                                            0    1.131546\n",
       "                                            1    1.045867\n",
       "                                            dtype: float64),\n",
       "                                           ('_Pm_cap_norm',\n",
       "                                            modes\n",
       "                                            0    1.145250\n",
       "                                            1    0.333519\n",
       "                                            dtype: float64),\n",
       "                                           ('hfss_variables',\n",
       "                                            _Cj     0fF\n",
       "                                            _Lj    11nH\n",
       "                                            Name: 0, dtype: object),\n",
       "                                           ('Ljs',\n",
       "                                            jj    1.100000e-08\n",
       "                                            Name: 0, dtype: float64),\n",
       "                                           ('Cjs',\n",
       "                                            jj    2.000000e-15\n",
       "                                            Name: 0, dtype: float64),\n",
       "                                           ('Q_coupling',\n",
       "                                            Empty DataFrame\n",
       "                                            Columns: []\n",
       "                                            Index: [0, 1]),\n",
       "                                           ('Qs',\n",
       "                                            0    inf\n",
       "                                            1    inf\n",
       "                                            Name: 0, dtype: float64),\n",
       "                                           ('fock_trunc', 7),\n",
       "                                           ('cos_trunc', 8)]))])"
      ]
     },
     "execution_count": 18,
     "metadata": {},
     "output_type": "execute_result"
    }
   ],
   "source": [
    "def find_qubit_properties(EPRanalysis):\n",
    "    '''\n",
    "    From a runned EPR analysis, returns parameters of interest\n",
    "    \n",
    "    Input:\n",
    "    * EPRanalysis (EPRanalysis)\n",
    "    \n",
    "    Output:\n",
    "    * f_0 (float) - Eigenmode frequencies computed by HFSS\n",
    "    * f_1 (float) - Dressed mode frequencies (based on 1st order perturbation theory on 4th order expansion of cosine)\n",
    "    * chi_ND (pd.DataFrame) - chi matrix. On diagonals are anharmonicities. Off diagonals are dispersive shifts\n",
    "    '''\n",
    "    results = eig_qb.sim.renderer.epr_quantum_analysis.results\n",
    "    \n",
    "    return results\n",
    "\n",
    "results = find_qubit_properties(eig_qb)\n",
    "results\n",
    "    "
   ]
  },
  {
   "cell_type": "code",
   "execution_count": null,
   "id": "45158709",
   "metadata": {},
   "outputs": [],
   "source": [
    "results['chi_ND']"
   ]
  },
  {
   "cell_type": "markdown",
   "id": "e50ca900",
   "metadata": {},
   "source": [
    "## Found "
   ]
  },
  {
   "cell_type": "code",
   "execution_count": null,
   "id": "5a997719",
   "metadata": {},
   "outputs": [],
   "source": [
    "eig_qb.energy_elec"
   ]
  },
  {
   "cell_type": "code",
   "execution_count": null,
   "id": "d165103c",
   "metadata": {},
   "outputs": [],
   "source": []
  }
 ],
 "metadata": {
  "kernelspec": {
   "display_name": "qiskit-metal",
   "language": "python",
   "name": "qiskit-metal"
  },
  "language_info": {
   "codemirror_mode": {
    "name": "ipython",
    "version": 3
   },
   "file_extension": ".py",
   "mimetype": "text/x-python",
   "name": "python",
   "nbconvert_exporter": "python",
   "pygments_lexer": "ipython3",
   "version": "3.9.9"
  },
  "toc": {
   "base_numbering": 1,
   "nav_menu": {},
   "number_sections": true,
   "sideBar": true,
   "skip_h1_title": false,
   "title_cell": "Table of Contents",
   "title_sidebar": "Contents",
   "toc_cell": false,
   "toc_position": {},
   "toc_section_display": true,
   "toc_window_display": false
  }
 },
 "nbformat": 4,
 "nbformat_minor": 5
}
