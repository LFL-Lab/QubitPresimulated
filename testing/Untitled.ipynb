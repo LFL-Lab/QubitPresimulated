{
 "cells": [
  {
   "cell_type": "code",
   "execution_count": 1,
   "id": "e8fdf4b4",
   "metadata": {},
   "outputs": [],
   "source": [
    "%load_ext autoreload\n",
    "%autoreload 2"
   ]
  },
  {
   "cell_type": "code",
   "execution_count": 2,
   "id": "e298b871",
   "metadata": {},
   "outputs": [],
   "source": [
    "import sys; sys.path.append('/Users/clarkmiyamoto/LFL_QubitLibraries')"
   ]
  },
  {
   "cell_type": "code",
   "execution_count": 3,
   "id": "0f7f6ce2",
   "metadata": {},
   "outputs": [],
   "source": [
    "from QubitPresimulated.librarian import QLibrarian"
   ]
  },
  {
   "cell_type": "code",
   "execution_count": 15,
   "id": "7ac21eaa",
   "metadata": {},
   "outputs": [
    {
     "data": {
      "text/html": [
       "<div>\n",
       "<style scoped>\n",
       "    .dataframe tbody tr th:only-of-type {\n",
       "        vertical-align: middle;\n",
       "    }\n",
       "\n",
       "    .dataframe tbody tr th {\n",
       "        vertical-align: top;\n",
       "    }\n",
       "\n",
       "    .dataframe thead th {\n",
       "        text-align: right;\n",
       "    }\n",
       "</style>\n",
       "<table border=\"1\" class=\"dataframe\">\n",
       "  <thead>\n",
       "    <tr style=\"text-align: right;\">\n",
       "      <th></th>\n",
       "      <th>30</th>\n",
       "    </tr>\n",
       "  </thead>\n",
       "  <tbody>\n",
       "    <tr>\n",
       "      <th>0</th>\n",
       "      <td>40.0</td>\n",
       "    </tr>\n",
       "  </tbody>\n",
       "</table>\n",
       "</div>"
      ],
      "text/plain": [
       "     30\n",
       "0  40.0"
      ]
     },
     "execution_count": 15,
     "metadata": {},
     "output_type": "execute_result"
    }
   ],
   "source": [
    "library = QLibrarian()\n",
    "library.qoptions = library.qoptions.append({'10':20}, ignore_index=True)\n",
    "library.simulations = library.simulations.append({'30':40}, ignore_index=True)\n",
    "\n",
    "merged_data = library._merge_data()\n",
    "merged_data[1]"
   ]
  },
  {
   "cell_type": "code",
   "execution_count": null,
   "id": "9dfbc314",
   "metadata": {},
   "outputs": [],
   "source": []
  }
 ],
 "metadata": {
  "kernelspec": {
   "display_name": "Python 3 (ipykernel)",
   "language": "python",
   "name": "python3"
  },
  "language_info": {
   "codemirror_mode": {
    "name": "ipython",
    "version": 3
   },
   "file_extension": ".py",
   "mimetype": "text/x-python",
   "name": "python",
   "nbconvert_exporter": "python",
   "pygments_lexer": "ipython3",
   "version": "3.9.7"
  }
 },
 "nbformat": 4,
 "nbformat_minor": 5
}
