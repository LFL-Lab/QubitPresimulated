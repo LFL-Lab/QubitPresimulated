{
 "cells": [
  {
   "cell_type": "code",
   "execution_count": 1,
   "id": "e170c07f",
   "metadata": {},
   "outputs": [],
   "source": [
    "%load_ext autoreload\n",
    "%autoreload 2"
   ]
  },
  {
   "cell_type": "code",
   "execution_count": 2,
   "id": "7a15db82",
   "metadata": {},
   "outputs": [],
   "source": [
    "import sys; sys.path.append(r\"D:/Clark/LFL_QubitLibraries\")"
   ]
  },
  {
   "cell_type": "markdown",
   "id": "5dad2fa4",
   "metadata": {},
   "source": [
    "# Introduction\n",
    "\n",
    "In this tutorial, I show you how to use `QSweeper` to go through a parameter space given by `QComponent.options`, and then determine the best suited options for you.\n",
    "\n",
    "<a href='#QSweeper'>Tutorial begins here</a>"
   ]
  },
  {
   "cell_type": "markdown",
   "id": "ba7ffc44",
   "metadata": {},
   "source": [
    "### Make Design"
   ]
  },
  {
   "cell_type": "code",
   "execution_count": 3,
   "id": "0a1015c5",
   "metadata": {},
   "outputs": [],
   "source": [
    "import qiskit_metal as metal\n",
    "from qiskit_metal import designs, draw\n",
    "from qiskit_metal import MetalGUI, Dict\n",
    "\n",
    "design = designs.DesignPlanar()\n",
    "gui = MetalGUI(design)\n",
    "\n",
    "design.overwrite_enabled = True"
   ]
  },
  {
   "cell_type": "code",
   "execution_count": 4,
   "id": "dc8e85f6",
   "metadata": {},
   "outputs": [
    {
     "name": "stderr",
     "output_type": "stream",
     "text": [
      "WARNING:py.warnings:D:\\Anaconda\\envs\\metal_test_env\\lib\\site-packages\\pandas\\core\\dtypes\\cast.py:122: ShapelyDeprecationWarning: The array interface is deprecated and will no longer work in Shapely 2.0. Convert the '.coords' to a numpy array instead.\n",
      "  arr = construct_1d_object_array_from_listlike(values)\n",
      "\n",
      "WARNING:py.warnings:D:\\Anaconda\\envs\\metal_test_env\\lib\\site-packages\\pandas\\core\\dtypes\\cast.py:122: ShapelyDeprecationWarning: The array interface is deprecated and will no longer work in Shapely 2.0. Convert the '.coords' to a numpy array instead.\n",
      "  arr = construct_1d_object_array_from_listlike(values)\n",
      "\n"
     ]
    }
   ],
   "source": [
    "from qiskit_metal.qlibrary.qubits.transmon_cross import TransmonCross\n",
    "\n",
    "xmon = TransmonCross(design, 'xmon')\n",
    "gui.rebuild()\n",
    "gui.zoom_on_components(['xmon'])"
   ]
  },
  {
   "cell_type": "code",
   "execution_count": 5,
   "id": "7166d695",
   "metadata": {},
   "outputs": [
    {
     "data": {
      "text/plain": [
       "{'pos_x': '0.0um',\n",
       " 'pos_y': '0.0um',\n",
       " 'orientation': '0.0',\n",
       " 'chip': 'main',\n",
       " 'layer': '1',\n",
       " 'connection_pads': {},\n",
       " 'cross_width': '20um',\n",
       " 'cross_length': '200um',\n",
       " 'cross_gap': '20um',\n",
       " 'hfss_inductance': '10nH',\n",
       " 'hfss_capacitance': 0,\n",
       " 'hfss_resistance': 0,\n",
       " 'hfss_mesh_kw_jj': 7e-06,\n",
       " 'q3d_inductance': '10nH',\n",
       " 'q3d_capacitance': 0,\n",
       " 'q3d_resistance': 0,\n",
       " 'q3d_mesh_kw_jj': 7e-06,\n",
       " 'gds_cell_name': 'my_other_junction'}"
      ]
     },
     "execution_count": 5,
     "metadata": {},
     "output_type": "execute_result"
    }
   ],
   "source": [
    "xmon.options"
   ]
  },
  {
   "cell_type": "markdown",
   "id": "900b336c",
   "metadata": {},
   "source": [
    "### Setting up `QAnalysis`"
   ]
  },
  {
   "cell_type": "code",
   "execution_count": 6,
   "id": "6154e2da",
   "metadata": {},
   "outputs": [],
   "source": [
    "from QubitPresimulated.sweeper import QSweeper\n",
    "from qiskit_metal.analyses.quantization import EPRanalysis"
   ]
  },
  {
   "cell_type": "markdown",
   "id": "3ca1614e",
   "metadata": {},
   "source": [
    "First initalize your analysis module. In this case, we'll be using `EPRanalysis`."
   ]
  },
  {
   "cell_type": "code",
   "execution_count": 7,
   "id": "fc49083e",
   "metadata": {},
   "outputs": [
    {
     "data": {
      "text/plain": [
       "{'name': 'Setup',\n",
       " 'reuse_selected_design': False,\n",
       " 'reuse_setup': True,\n",
       " 'min_freq_ghz': 1,\n",
       " 'n_modes': 1,\n",
       " 'max_delta_f': 0.5,\n",
       " 'max_passes': 6,\n",
       " 'min_passes': 1,\n",
       " 'min_converged': 1,\n",
       " 'pct_refinement': 30,\n",
       " 'basis_order': 1,\n",
       " 'vars': {'Lj': '10 nH', 'Cj': '0 fF'}}"
      ]
     },
     "execution_count": 7,
     "metadata": {},
     "output_type": "execute_result"
    }
   ],
   "source": [
    "# Set up your EPRanalysis\n",
    "eig_qb = EPRanalysis(design, \"hfss\")\n",
    "\n",
    "eig_qb.sim.setup.max_passes = 6\n",
    "eig_qb.sim.setup.reuse_selected_design = False # MUST BE DEFINED AS SUCH ALWAYS\n",
    "eig_qb.sim.setup"
   ]
  },
  {
   "cell_type": "code",
   "execution_count": 8,
   "id": "780ca226",
   "metadata": {},
   "outputs": [
    {
     "data": {
      "text/plain": [
       "{'junctions': {'jj': {'Lj_variable': 'Lj',\n",
       "   'Cj_variable': 'Cj',\n",
       "   'rect': 'JJ_rect_Lj_xmon_rect_jj',\n",
       "   'line': 'JJ_Lj_xmon_rect_jj_'}},\n",
       " 'dissipatives': {'dielectrics_bulk': ['main']},\n",
       " 'cos_trunc': 8,\n",
       " 'fock_trunc': 7,\n",
       " 'sweep_variable': 'Lj'}"
      ]
     },
     "execution_count": 8,
     "metadata": {},
     "output_type": "execute_result"
    }
   ],
   "source": [
    "eig_qb.setup.junctions.jj.rect = 'JJ_rect_Lj_xmon_rect_jj'\n",
    "eig_qb.setup.junctions.jj.line = 'JJ_Lj_xmon_rect_jj_'\n",
    "\n",
    "eig_qb.setup"
   ]
  },
  {
   "cell_type": "code",
   "execution_count": 9,
   "id": "c91e91c2",
   "metadata": {},
   "outputs": [
    {
     "name": "stderr",
     "output_type": "stream",
     "text": [
      "INFO 04:22PM [connect_project]: Connecting to Ansys Desktop API...\n",
      "INFO 04:22PM [load_ansys_project]: \tOpened Ansys App\n",
      "INFO 04:22PM [load_ansys_project]: \tOpened Ansys Desktop v2021.1.0\n",
      "INFO 04:22PM [load_ansys_project]: \tOpened Ansys Project\n",
      "\tFolder:    D:/lfl/Documents/Ansoft/\n",
      "\tProject:   Project64\n",
      "INFO 04:22PM [connect_design]: \tOpened active design\n",
      "\tDesign:    Design_hfss28 [Solution type: Eigenmode]\n",
      "INFO 04:22PM [get_setup]: \tOpened setup `Setup`  (<class 'pyEPR.ansys.HfssEMSetup'>)\n",
      "INFO 04:22PM [connect]: \tConnected to project \"Project64\" and design \"Design_hfss28\" 😀 \n",
      "\n",
      "INFO 04:22PM [connect_design]: \tOpened active design\n",
      "\tDesign:    TransmonQubit [Solution type: Eigenmode]\n"
     ]
    }
   ],
   "source": [
    "hfss = eig_qb.sim.renderer\n",
    "hfss.start()\n",
    "hfss.activate_ansys_design(\"TransmonQubit\", 'eigenmode')  # use new_ansys_design() to force creation of a blank design\n",
    "hfss.clean_active_design()\n",
    "hfss.render_design(['xmon'], [])\n"
   ]
  },
  {
   "cell_type": "markdown",
   "id": "b045ee81",
   "metadata": {},
   "source": [
    "<a id='QSweeper'></a>\n",
    "# Initalize `QSweeper`, and Run a Sweep"
   ]
  },
  {
   "cell_type": "code",
   "execution_count": 10,
   "id": "53bc5125",
   "metadata": {},
   "outputs": [],
   "source": [
    "# It has one initalization input, which is a QAnalysis module\n",
    "# In this case: type(eig_qb) is EPRanalysis\n",
    "sweeper = QSweeper(eig_qb)"
   ]
  },
  {
   "cell_type": "code",
   "execution_count": 11,
   "id": "c35dad67",
   "metadata": {},
   "outputs": [
    {
     "name": "stderr",
     "output_type": "stream",
     "text": [
      "  0%|                                                                                            | 0/4 [00:00<?, ?it/s]WARNING:py.warnings:D:\\Anaconda\\envs\\metal_test_env\\lib\\site-packages\\pandas\\core\\dtypes\\cast.py:122: ShapelyDeprecationWarning: The array interface is deprecated and will no longer work in Shapely 2.0. Convert the '.coords' to a numpy array instead.\n",
      "  arr = construct_1d_object_array_from_listlike(values)\n",
      "\n",
      "INFO 04:22PM [connect_design]: \tOpened active design\n",
      "\tDesign:    Design_hfss29 [Solution type: Eigenmode]\n",
      "WARNING 04:22PM [connect_setup]: \tNo design setup detected.\n",
      "WARNING 04:22PM [connect_setup]: \tCreating eigenmode default setup.\n",
      "INFO 04:22PM [get_setup]: \tOpened setup `Setup`  (<class 'pyEPR.ansys.HfssEMSetup'>)\n",
      "INFO 04:22PM [get_setup]: \tOpened setup `Setup`  (<class 'pyEPR.ansys.HfssEMSetup'>)\n",
      "INFO 04:22PM [analyze]: Analyzing setup Setup\n",
      "04:22PM 55s INFO [get_f_convergence]: Saved convergences to D:\\Clark\\LFL_QubitLibraries\\testing\\hfss_eig_f_convergence.csv\n"
     ]
    },
    {
     "name": "stdout",
     "output_type": "stream",
     "text": [
      "Design \"Design_hfss29\" info:\n",
      "\t# eigenmodes    1\n",
      "\t# variations    1\n",
      "Design \"Design_hfss29\" info:\n",
      "\t# eigenmodes    1\n",
      "\t# variations    1\n"
     ]
    },
    {
     "name": "stderr",
     "output_type": "stream",
     "text": [
      "WARNING:py.warnings:D:\\Anaconda\\envs\\metal_test_env\\lib\\site-packages\\pyEPR\\project_info.py:239: FutureWarning: The default dtype for empty Series will be 'object' instead of 'float64' in a future version. Specify a dtype explicitly to silence this warning.\n",
      "  options=pd.Series(get_instance_vars(self.options)),\n",
      "\n"
     ]
    },
    {
     "name": "stdout",
     "output_type": "stream",
     "text": [
      "\n",
      "        energy_elec_all       = 8.21187825603725e-25\n",
      "        energy_elec_substrate = 7.53621285742723e-25\n",
      "        EPR of substrate = 91.8%\n",
      "\n",
      "        energy_mag    = 8.05515568554797e-27\n",
      "        energy_mag % of energy_elec_all  = 1.0%\n",
      "        \n",
      "\n",
      "Variation 0  [1/1]\n"
     ]
    },
    {
     "name": "stderr",
     "output_type": "stream",
     "text": [
      "WARNING:py.warnings:D:\\Anaconda\\envs\\metal_test_env\\lib\\site-packages\\pyEPR\\core_distributed_analysis.py:1101: FutureWarning: The default dtype for empty Series will be 'object' instead of 'float64' in a future version. Specify a dtype explicitly to silence this warning.\n",
      "  Ljs = pd.Series({})\n",
      "\n",
      "WARNING:py.warnings:D:\\Anaconda\\envs\\metal_test_env\\lib\\site-packages\\pyEPR\\core_distributed_analysis.py:1102: FutureWarning: The default dtype for empty Series will be 'object' instead of 'float64' in a future version. Specify a dtype explicitly to silence this warning.\n",
      "  Cjs = pd.Series({})\n",
      "\n",
      "WARNING:py.warnings:D:\\Anaconda\\envs\\metal_test_env\\lib\\site-packages\\pyEPR\\core_distributed_analysis.py:1245: FutureWarning: The default dtype for empty Series will be 'object' instead of 'float64' in a future version. Specify a dtype explicitly to silence this warning.\n",
      "  _Om = pd.Series({})\n",
      "\n"
     ]
    },
    {
     "name": "stdout",
     "output_type": "stream",
     "text": [
      "\n",
      "  \u001b[1mMode 0 at 5.61 GHz   [1/1]\u001b[0m\n",
      "    Calculating ℰ_magnetic,"
     ]
    },
    {
     "name": "stderr",
     "output_type": "stream",
     "text": [
      "WARNING:py.warnings:D:\\Anaconda\\envs\\metal_test_env\\lib\\site-packages\\pyEPR\\core_distributed_analysis.py:981: FutureWarning: The default dtype for empty Series will be 'object' instead of 'float64' in a future version. Specify a dtype explicitly to silence this warning.\n",
      "  Sj = pd.Series({})\n",
      "\n"
     ]
    },
    {
     "name": "stdout",
     "output_type": "stream",
     "text": [
      "ℰ_electric\n",
      "       (ℰ_E-ℰ_H)/ℰ_E       ℰ_E       ℰ_H\n",
      "               99.0%  4.106e-25 4.028e-27\n",
      "\n",
      "    Calculating junction energy participation ration (EPR)\n",
      "\tmethod=`line_voltage`. First estimates:\n",
      "\tjunction        EPR p_0j   sign s_0j    (p_capacitive)\n"
     ]
    },
    {
     "name": "stderr",
     "output_type": "stream",
     "text": [
      "WARNING:py.warnings:D:\\Anaconda\\envs\\metal_test_env\\lib\\site-packages\\pyEPR\\core_distributed_analysis.py:933: FutureWarning: The default dtype for empty Series will be 'object' instead of 'float64' in a future version. Specify a dtype explicitly to silence this warning.\n",
      "  Qp = pd.Series({})\n",
      "\n",
      "WARNING:py.warnings:D:\\Anaconda\\envs\\metal_test_env\\lib\\site-packages\\pyEPR\\core_distributed_analysis.py:1307: FutureWarning: The series.append method is deprecated and will be removed from pandas in a future version. Use pandas.concat instead.\n",
      "  sol = sol.append(self.get_Qdielectric(\n",
      "\n"
     ]
    },
    {
     "name": "stdout",
     "output_type": "stream",
     "text": [
      "\t\tEnergy fraction (Lj over Lj&Cj)= 97.58%\n",
      "\tjj              0.989472  (+)        0.0245675\n",
      "\t\t(U_tot_cap-U_tot_ind)/mean=1.25%\n",
      "Calculating Qdielectric_main for mode 0 (0/0)\n",
      "p_dielectric_main_0 = 0.9177209674153072\n"
     ]
    },
    {
     "name": "stderr",
     "output_type": "stream",
     "text": [
      "WARNING:py.warnings:D:\\Anaconda\\envs\\metal_test_env\\lib\\site-packages\\pyEPR\\project_info.py:239: FutureWarning: The default dtype for empty Series will be 'object' instead of 'float64' in a future version. Specify a dtype explicitly to silence this warning.\n",
      "  options=pd.Series(get_instance_vars(self.options)),\n",
      "\n",
      "WARNING 04:23PM [__init__]: <p>Error: <class 'IndexError'></p>\n",
      "WARNING:py.warnings:D:\\Anaconda\\envs\\metal_test_env\\lib\\site-packages\\pyEPR\\core_quantum_analysis.py:712: FutureWarning: Support for multi-dimensional indexing (e.g. `obj[:, None]`) is deprecated and will be removed in a future version.  Convert to a numpy array before indexing instead.\n",
      "  result['Q_coupling'] = self.Qm_coupling[variation][self.Qm_coupling[variation].columns[junctions]][modes]#TODO change the columns to junctions\n",
      "\n",
      "WARNING:py.warnings:D:\\Anaconda\\envs\\metal_test_env\\lib\\site-packages\\pyEPR\\core_quantum_analysis.py:717: FutureWarning: Support for multi-dimensional indexing (e.g. `obj[:, None]`) is deprecated and will be removed in a future version.  Convert to a numpy array before indexing instead.\n",
      "  result['Qs'] = self.Qs[variation][self.PM[variation].columns[junctions]][modes] #TODO change the columns to junctions\n",
      "\n"
     ]
    },
    {
     "name": "stdout",
     "output_type": "stream",
     "text": [
      "\n",
      "ANALYSIS DONE. Data saved to:\n",
      "\n",
      "C:\\data-pyEPR\\Project64\\Design_hfss29\\2022-12-29 16-22-56.npz\n",
      "\n",
      "\n",
      "\t Differences in variations:\n",
      "\n",
      "\n",
      "\n",
      " . . . . . . . . . . . . . . . . . . . . . . . . . . . . . . . . . . . . . . . . \n",
      "Variation 0\n",
      "\n",
      "Starting the diagonalization\n",
      "Finished the diagonalization\n",
      "Pm_norm=\n",
      "modes\n",
      "0    1.025432\n",
      "dtype: float64\n",
      "\n",
      "Pm_norm idx =\n",
      "     jj\n",
      "0  True\n",
      "*** P (participation matrix, not normlz.)\n",
      "         jj\n",
      "0  0.965746\n",
      "\n",
      "*** S (sign-bit matrix)\n",
      "   s_jj\n",
      "0    -1\n",
      "*** P (participation matrix, normalized.)\n",
      "      0.99\n",
      "\n",
      "*** Chi matrix O1 PT (MHz)\n",
      "    Diag is anharmonicity, off diag is full cross-Kerr.\n",
      "       236\n",
      "\n",
      "*** Chi matrix ND (MHz) \n",
      "       259\n",
      "\n",
      "*** Frequencies O1 PT (MHz)\n",
      "0    5371.855886\n",
      "dtype: float64\n",
      "\n",
      "*** Frequencies ND (MHz)\n",
      "0    5360.965397\n",
      "dtype: float64\n",
      "\n",
      "*** Q_coupling\n",
      "Empty DataFrame\n",
      "Columns: []\n",
      "Index: [0]\n"
     ]
    },
    {
     "data": {
      "text/markdown": [
       "#### Mode frequencies (MHz)"
      ],
      "text/plain": [
       "<IPython.core.display.Markdown object>"
      ]
     },
     "metadata": {},
     "output_type": "display_data"
    },
    {
     "data": {
      "text/markdown": [
       "###### Numerical diagonalization"
      ],
      "text/plain": [
       "<IPython.core.display.Markdown object>"
      ]
     },
     "metadata": {},
     "output_type": "display_data"
    },
    {
     "data": {
      "text/html": [
       "<div>\n",
       "<style scoped>\n",
       "    .dataframe tbody tr th:only-of-type {\n",
       "        vertical-align: middle;\n",
       "    }\n",
       "\n",
       "    .dataframe tbody tr th {\n",
       "        vertical-align: top;\n",
       "    }\n",
       "\n",
       "    .dataframe thead th {\n",
       "        text-align: right;\n",
       "    }\n",
       "</style>\n",
       "<table border=\"1\" class=\"dataframe\">\n",
       "  <thead>\n",
       "    <tr style=\"text-align: right;\">\n",
       "      <th>Lj</th>\n",
       "      <th>10</th>\n",
       "    </tr>\n",
       "  </thead>\n",
       "  <tbody>\n",
       "    <tr>\n",
       "      <th>0</th>\n",
       "      <td>5360.97</td>\n",
       "    </tr>\n",
       "  </tbody>\n",
       "</table>\n",
       "</div>"
      ],
      "text/plain": [
       "Lj       10\n",
       "0   5360.97"
      ]
     },
     "metadata": {},
     "output_type": "display_data"
    },
    {
     "data": {
      "text/markdown": [
       "#### Kerr Non-linear coefficient table (MHz)"
      ],
      "text/plain": [
       "<IPython.core.display.Markdown object>"
      ]
     },
     "metadata": {},
     "output_type": "display_data"
    },
    {
     "data": {
      "text/markdown": [
       "###### Numerical diagonalization"
      ],
      "text/plain": [
       "<IPython.core.display.Markdown object>"
      ]
     },
     "metadata": {},
     "output_type": "display_data"
    },
    {
     "data": {
      "text/html": [
       "<div>\n",
       "<style scoped>\n",
       "    .dataframe tbody tr th:only-of-type {\n",
       "        vertical-align: middle;\n",
       "    }\n",
       "\n",
       "    .dataframe tbody tr th {\n",
       "        vertical-align: top;\n",
       "    }\n",
       "\n",
       "    .dataframe thead th {\n",
       "        text-align: right;\n",
       "    }\n",
       "</style>\n",
       "<table border=\"1\" class=\"dataframe\">\n",
       "  <thead>\n",
       "    <tr style=\"text-align: right;\">\n",
       "      <th></th>\n",
       "      <th></th>\n",
       "      <th>0</th>\n",
       "    </tr>\n",
       "    <tr>\n",
       "      <th>Lj</th>\n",
       "      <th></th>\n",
       "      <th></th>\n",
       "    </tr>\n",
       "  </thead>\n",
       "  <tbody>\n",
       "    <tr>\n",
       "      <th>10</th>\n",
       "      <th>0</th>\n",
       "      <td>258.97</td>\n",
       "    </tr>\n",
       "  </tbody>\n",
       "</table>\n",
       "</div>"
      ],
      "text/plain": [
       "           0\n",
       "Lj          \n",
       "10 0  258.97"
      ]
     },
     "metadata": {},
     "output_type": "display_data"
    },
    {
     "name": "stderr",
     "output_type": "stream",
     "text": [
      "WARNING:py.warnings:D:\\Clark/LFL_QubitLibraries\\QubitPresimulated\\librarian.py:68: FutureWarning: The frame.append method is deprecated and will be removed from pandas in a future version. Use pandas.concat instead.\n",
      "  self.qoptions_data = self.qoptions_data.append(dict(zip(keys, values)), ignore_index=True)\n",
      "\n",
      "WARNING:py.warnings:D:\\Clark/LFL_QubitLibraries\\QubitPresimulated\\librarian.py:70: FutureWarning: The frame.append method is deprecated and will be removed from pandas in a future version. Use pandas.concat instead.\n",
      "  self.simulations_data = self.simulations_data.append(dict(zip(keys, values)), ignore_index=True)\n",
      "\n",
      " 25%|█████████████████████                                                               | 1/4 [00:35<01:46, 35.36s/it]WARNING:py.warnings:D:\\Anaconda\\envs\\metal_test_env\\lib\\site-packages\\pandas\\core\\dtypes\\cast.py:122: ShapelyDeprecationWarning: The array interface is deprecated and will no longer work in Shapely 2.0. Convert the '.coords' to a numpy array instead.\n",
      "  arr = construct_1d_object_array_from_listlike(values)\n",
      "\n"
     ]
    },
    {
     "name": "stdout",
     "output_type": "stream",
     "text": [
      "Simulated and logged configuration: {'cross_width': '10um', 'cross_length': '150um'}\n"
     ]
    },
    {
     "name": "stderr",
     "output_type": "stream",
     "text": [
      "INFO 04:23PM [connect_design]: \tOpened active design\n",
      "\tDesign:    Design_hfss30 [Solution type: Eigenmode]\n",
      "WARNING 04:23PM [connect_setup]: \tNo design setup detected.\n",
      "WARNING 04:23PM [connect_setup]: \tCreating eigenmode default setup.\n",
      "INFO 04:23PM [get_setup]: \tOpened setup `Setup`  (<class 'pyEPR.ansys.HfssEMSetup'>)\n",
      "INFO 04:23PM [get_setup]: \tOpened setup `Setup`  (<class 'pyEPR.ansys.HfssEMSetup'>)\n",
      "INFO 04:23PM [analyze]: Analyzing setup Setup\n",
      "04:23PM 31s INFO [get_f_convergence]: Saved convergences to D:\\Clark\\LFL_QubitLibraries\\testing\\hfss_eig_f_convergence.csv\n"
     ]
    },
    {
     "name": "stdout",
     "output_type": "stream",
     "text": [
      "Design \"Design_hfss30\" info:\n",
      "\t# eigenmodes    1\n",
      "\t# variations    1\n",
      "Design \"Design_hfss30\" info:\n",
      "\t# eigenmodes    1\n",
      "\t# variations    1\n"
     ]
    },
    {
     "name": "stderr",
     "output_type": "stream",
     "text": [
      "WARNING:py.warnings:D:\\Anaconda\\envs\\metal_test_env\\lib\\site-packages\\pyEPR\\project_info.py:239: FutureWarning: The default dtype for empty Series will be 'object' instead of 'float64' in a future version. Specify a dtype explicitly to silence this warning.\n",
      "  options=pd.Series(get_instance_vars(self.options)),\n",
      "\n"
     ]
    },
    {
     "name": "stdout",
     "output_type": "stream",
     "text": [
      "\n",
      "        energy_elec_all       = 4.10844188585681e-24\n",
      "        energy_elec_substrate = 3.7295880377881e-24\n",
      "        EPR of substrate = 90.8%\n",
      "\n",
      "        energy_mag    = 8.07245764588963e-26\n",
      "        energy_mag % of energy_elec_all  = 2.0%\n",
      "        \n",
      "\n",
      "Variation 0  [1/1]\n"
     ]
    },
    {
     "name": "stderr",
     "output_type": "stream",
     "text": [
      "WARNING:py.warnings:D:\\Anaconda\\envs\\metal_test_env\\lib\\site-packages\\pyEPR\\core_distributed_analysis.py:1101: FutureWarning: The default dtype for empty Series will be 'object' instead of 'float64' in a future version. Specify a dtype explicitly to silence this warning.\n",
      "  Ljs = pd.Series({})\n",
      "\n",
      "WARNING:py.warnings:D:\\Anaconda\\envs\\metal_test_env\\lib\\site-packages\\pyEPR\\core_distributed_analysis.py:1102: FutureWarning: The default dtype for empty Series will be 'object' instead of 'float64' in a future version. Specify a dtype explicitly to silence this warning.\n",
      "  Cjs = pd.Series({})\n",
      "\n",
      "WARNING:py.warnings:D:\\Anaconda\\envs\\metal_test_env\\lib\\site-packages\\pyEPR\\core_distributed_analysis.py:1245: FutureWarning: The default dtype for empty Series will be 'object' instead of 'float64' in a future version. Specify a dtype explicitly to silence this warning.\n",
      "  _Om = pd.Series({})\n",
      "\n"
     ]
    },
    {
     "name": "stdout",
     "output_type": "stream",
     "text": [
      "\n",
      "  \u001b[1mMode 0 at 3.47 GHz   [1/1]\u001b[0m\n",
      "    Calculating ℰ_magnetic,"
     ]
    },
    {
     "name": "stderr",
     "output_type": "stream",
     "text": [
      "WARNING:py.warnings:D:\\Anaconda\\envs\\metal_test_env\\lib\\site-packages\\pyEPR\\core_distributed_analysis.py:981: FutureWarning: The default dtype for empty Series will be 'object' instead of 'float64' in a future version. Specify a dtype explicitly to silence this warning.\n",
      "  Sj = pd.Series({})\n",
      "\n"
     ]
    },
    {
     "name": "stdout",
     "output_type": "stream",
     "text": [
      "ℰ_electric\n",
      "       (ℰ_E-ℰ_H)/ℰ_E       ℰ_E       ℰ_H\n",
      "               98.0%  2.054e-24 4.036e-26\n",
      "\n",
      "    Calculating junction energy participation ration (EPR)\n",
      "\tmethod=`line_voltage`. First estimates:\n",
      "\tjunction        EPR p_0j   sign s_0j    (p_capacitive)\n"
     ]
    },
    {
     "name": "stderr",
     "output_type": "stream",
     "text": [
      "WARNING:py.warnings:D:\\Anaconda\\envs\\metal_test_env\\lib\\site-packages\\pyEPR\\core_distributed_analysis.py:933: FutureWarning: The default dtype for empty Series will be 'object' instead of 'float64' in a future version. Specify a dtype explicitly to silence this warning.\n",
      "  Qp = pd.Series({})\n",
      "\n",
      "WARNING:py.warnings:D:\\Anaconda\\envs\\metal_test_env\\lib\\site-packages\\pyEPR\\core_distributed_analysis.py:1307: FutureWarning: The series.append method is deprecated and will be removed from pandas in a future version. Use pandas.concat instead.\n",
      "  sol = sol.append(self.get_Qdielectric(\n",
      "\n"
     ]
    },
    {
     "name": "stdout",
     "output_type": "stream",
     "text": [
      "\t\tEnergy fraction (Lj over Lj&Cj)= 99.06%\n",
      "\tjj              0.980368  (+)        0.00934166\n",
      "\t\t(U_tot_cap-U_tot_ind)/mean=0.46%\n",
      "Calculating Qdielectric_main for mode 0 (0/0)\n",
      "p_dielectric_main_0 = 0.9077864897218327\n"
     ]
    },
    {
     "name": "stderr",
     "output_type": "stream",
     "text": [
      "WARNING:py.warnings:D:\\Anaconda\\envs\\metal_test_env\\lib\\site-packages\\pyEPR\\project_info.py:239: FutureWarning: The default dtype for empty Series will be 'object' instead of 'float64' in a future version. Specify a dtype explicitly to silence this warning.\n",
      "  options=pd.Series(get_instance_vars(self.options)),\n",
      "\n",
      "WARNING 04:23PM [__init__]: <p>Error: <class 'IndexError'></p>\n",
      "WARNING:py.warnings:D:\\Anaconda\\envs\\metal_test_env\\lib\\site-packages\\pyEPR\\core_quantum_analysis.py:712: FutureWarning: Support for multi-dimensional indexing (e.g. `obj[:, None]`) is deprecated and will be removed in a future version.  Convert to a numpy array before indexing instead.\n",
      "  result['Q_coupling'] = self.Qm_coupling[variation][self.Qm_coupling[variation].columns[junctions]][modes]#TODO change the columns to junctions\n",
      "\n",
      "WARNING:py.warnings:D:\\Anaconda\\envs\\metal_test_env\\lib\\site-packages\\pyEPR\\core_quantum_analysis.py:717: FutureWarning: Support for multi-dimensional indexing (e.g. `obj[:, None]`) is deprecated and will be removed in a future version.  Convert to a numpy array before indexing instead.\n",
      "  result['Qs'] = self.Qs[variation][self.PM[variation].columns[junctions]][modes] #TODO change the columns to junctions\n",
      "\n"
     ]
    },
    {
     "name": "stdout",
     "output_type": "stream",
     "text": [
      "\n",
      "ANALYSIS DONE. Data saved to:\n",
      "\n",
      "C:\\data-pyEPR\\Project64\\Design_hfss30\\2022-12-29 16-23-31.npz\n",
      "\n",
      "\n",
      "\t Differences in variations:\n",
      "\n",
      "\n",
      "\n",
      " . . . . . . . . . . . . . . . . . . . . . . . . . . . . . . . . . . . . . . . . \n",
      "Variation 0\n",
      "\n",
      "Starting the diagonalization\n",
      "Finished the diagonalization\n",
      "Pm_norm=\n",
      "modes\n",
      "0    1.009419\n",
      "dtype: float64\n",
      "\n",
      "Pm_norm idx =\n",
      "     jj\n",
      "0  True\n",
      "*** P (participation matrix, not normlz.)\n",
      "         jj\n",
      "0  0.971294\n",
      "\n",
      "*** S (sign-bit matrix)\n",
      "   s_jj\n",
      "0    -1\n",
      "*** P (participation matrix, normalized.)\n",
      "      0.98\n",
      "\n",
      "*** Chi matrix O1 PT (MHz)\n",
      "    Diag is anharmonicity, off diag is full cross-Kerr.\n",
      "      88.7\n",
      "\n",
      "*** Chi matrix ND (MHz) \n",
      "      93.9\n",
      "\n",
      "*** Frequencies O1 PT (MHz)\n",
      "0    3385.230909\n",
      "dtype: float64\n",
      "\n",
      "*** Frequencies ND (MHz)\n",
      "0    3382.869425\n",
      "dtype: float64\n",
      "\n",
      "*** Q_coupling\n",
      "Empty DataFrame\n",
      "Columns: []\n",
      "Index: [0]\n"
     ]
    },
    {
     "data": {
      "text/markdown": [
       "#### Mode frequencies (MHz)"
      ],
      "text/plain": [
       "<IPython.core.display.Markdown object>"
      ]
     },
     "metadata": {},
     "output_type": "display_data"
    },
    {
     "data": {
      "text/markdown": [
       "###### Numerical diagonalization"
      ],
      "text/plain": [
       "<IPython.core.display.Markdown object>"
      ]
     },
     "metadata": {},
     "output_type": "display_data"
    },
    {
     "data": {
      "text/html": [
       "<div>\n",
       "<style scoped>\n",
       "    .dataframe tbody tr th:only-of-type {\n",
       "        vertical-align: middle;\n",
       "    }\n",
       "\n",
       "    .dataframe tbody tr th {\n",
       "        vertical-align: top;\n",
       "    }\n",
       "\n",
       "    .dataframe thead th {\n",
       "        text-align: right;\n",
       "    }\n",
       "</style>\n",
       "<table border=\"1\" class=\"dataframe\">\n",
       "  <thead>\n",
       "    <tr style=\"text-align: right;\">\n",
       "      <th>Lj</th>\n",
       "      <th>10</th>\n",
       "    </tr>\n",
       "  </thead>\n",
       "  <tbody>\n",
       "    <tr>\n",
       "      <th>0</th>\n",
       "      <td>3382.87</td>\n",
       "    </tr>\n",
       "  </tbody>\n",
       "</table>\n",
       "</div>"
      ],
      "text/plain": [
       "Lj       10\n",
       "0   3382.87"
      ]
     },
     "metadata": {},
     "output_type": "display_data"
    },
    {
     "data": {
      "text/markdown": [
       "#### Kerr Non-linear coefficient table (MHz)"
      ],
      "text/plain": [
       "<IPython.core.display.Markdown object>"
      ]
     },
     "metadata": {},
     "output_type": "display_data"
    },
    {
     "data": {
      "text/markdown": [
       "###### Numerical diagonalization"
      ],
      "text/plain": [
       "<IPython.core.display.Markdown object>"
      ]
     },
     "metadata": {},
     "output_type": "display_data"
    },
    {
     "data": {
      "text/html": [
       "<div>\n",
       "<style scoped>\n",
       "    .dataframe tbody tr th:only-of-type {\n",
       "        vertical-align: middle;\n",
       "    }\n",
       "\n",
       "    .dataframe tbody tr th {\n",
       "        vertical-align: top;\n",
       "    }\n",
       "\n",
       "    .dataframe thead th {\n",
       "        text-align: right;\n",
       "    }\n",
       "</style>\n",
       "<table border=\"1\" class=\"dataframe\">\n",
       "  <thead>\n",
       "    <tr style=\"text-align: right;\">\n",
       "      <th></th>\n",
       "      <th></th>\n",
       "      <th>0</th>\n",
       "    </tr>\n",
       "    <tr>\n",
       "      <th>Lj</th>\n",
       "      <th></th>\n",
       "      <th></th>\n",
       "    </tr>\n",
       "  </thead>\n",
       "  <tbody>\n",
       "    <tr>\n",
       "      <th>10</th>\n",
       "      <th>0</th>\n",
       "      <td>93.89</td>\n",
       "    </tr>\n",
       "  </tbody>\n",
       "</table>\n",
       "</div>"
      ],
      "text/plain": [
       "          0\n",
       "Lj         \n",
       "10 0  93.89"
      ]
     },
     "metadata": {},
     "output_type": "display_data"
    },
    {
     "name": "stderr",
     "output_type": "stream",
     "text": [
      "WARNING:py.warnings:D:\\Clark/LFL_QubitLibraries\\QubitPresimulated\\librarian.py:68: FutureWarning: The frame.append method is deprecated and will be removed from pandas in a future version. Use pandas.concat instead.\n",
      "  self.qoptions_data = self.qoptions_data.append(dict(zip(keys, values)), ignore_index=True)\n",
      "\n",
      "WARNING:py.warnings:D:\\Clark/LFL_QubitLibraries\\QubitPresimulated\\librarian.py:70: FutureWarning: The frame.append method is deprecated and will be removed from pandas in a future version. Use pandas.concat instead.\n",
      "  self.simulations_data = self.simulations_data.append(dict(zip(keys, values)), ignore_index=True)\n",
      "\n",
      " 50%|██████████████████████████████████████████                                          | 2/4 [01:11<01:11, 35.92s/it]WARNING:py.warnings:D:\\Anaconda\\envs\\metal_test_env\\lib\\site-packages\\pandas\\core\\dtypes\\cast.py:122: ShapelyDeprecationWarning: The array interface is deprecated and will no longer work in Shapely 2.0. Convert the '.coords' to a numpy array instead.\n",
      "  arr = construct_1d_object_array_from_listlike(values)\n",
      "\n"
     ]
    },
    {
     "name": "stdout",
     "output_type": "stream",
     "text": [
      "Simulated and logged configuration: {'cross_width': '10um', 'cross_length': '350um'}\n"
     ]
    },
    {
     "name": "stderr",
     "output_type": "stream",
     "text": [
      "INFO 04:23PM [connect_design]: \tOpened active design\n",
      "\tDesign:    Design_hfss31 [Solution type: Eigenmode]\n",
      "WARNING 04:23PM [connect_setup]: \tNo design setup detected.\n",
      "WARNING 04:23PM [connect_setup]: \tCreating eigenmode default setup.\n",
      "INFO 04:23PM [get_setup]: \tOpened setup `Setup`  (<class 'pyEPR.ansys.HfssEMSetup'>)\n",
      "INFO 04:23PM [get_setup]: \tOpened setup `Setup`  (<class 'pyEPR.ansys.HfssEMSetup'>)\n",
      "INFO 04:23PM [analyze]: Analyzing setup Setup\n",
      "04:24PM 11s INFO [get_f_convergence]: Saved convergences to D:\\Clark\\LFL_QubitLibraries\\testing\\hfss_eig_f_convergence.csv\n"
     ]
    },
    {
     "name": "stdout",
     "output_type": "stream",
     "text": [
      "Design \"Design_hfss31\" info:\n",
      "\t# eigenmodes    1\n",
      "\t# variations    1\n",
      "Design \"Design_hfss31\" info:\n",
      "\t# eigenmodes    1\n",
      "\t# variations    1\n"
     ]
    },
    {
     "name": "stderr",
     "output_type": "stream",
     "text": [
      "WARNING:py.warnings:D:\\Anaconda\\envs\\metal_test_env\\lib\\site-packages\\pyEPR\\project_info.py:239: FutureWarning: The default dtype for empty Series will be 'object' instead of 'float64' in a future version. Specify a dtype explicitly to silence this warning.\n",
      "  options=pd.Series(get_instance_vars(self.options)),\n",
      "\n"
     ]
    },
    {
     "name": "stdout",
     "output_type": "stream",
     "text": [
      "\n",
      "        energy_elec_all       = 1.15581641242658e-24\n",
      "        energy_elec_substrate = 1.06194122044801e-24\n",
      "        EPR of substrate = 91.9%\n",
      "\n",
      "        energy_mag    = 8.52048595153468e-27\n",
      "        energy_mag % of energy_elec_all  = 0.7%\n",
      "        \n",
      "\n",
      "Variation 0  [1/1]\n"
     ]
    },
    {
     "name": "stderr",
     "output_type": "stream",
     "text": [
      "WARNING:py.warnings:D:\\Anaconda\\envs\\metal_test_env\\lib\\site-packages\\pyEPR\\core_distributed_analysis.py:1101: FutureWarning: The default dtype for empty Series will be 'object' instead of 'float64' in a future version. Specify a dtype explicitly to silence this warning.\n",
      "  Ljs = pd.Series({})\n",
      "\n",
      "WARNING:py.warnings:D:\\Anaconda\\envs\\metal_test_env\\lib\\site-packages\\pyEPR\\core_distributed_analysis.py:1102: FutureWarning: The default dtype for empty Series will be 'object' instead of 'float64' in a future version. Specify a dtype explicitly to silence this warning.\n",
      "  Cjs = pd.Series({})\n",
      "\n",
      "WARNING:py.warnings:D:\\Anaconda\\envs\\metal_test_env\\lib\\site-packages\\pyEPR\\core_distributed_analysis.py:1245: FutureWarning: The default dtype for empty Series will be 'object' instead of 'float64' in a future version. Specify a dtype explicitly to silence this warning.\n",
      "  _Om = pd.Series({})\n",
      "\n"
     ]
    },
    {
     "name": "stdout",
     "output_type": "stream",
     "text": [
      "\n",
      "  \u001b[1mMode 0 at 4.98 GHz   [1/1]\u001b[0m\n",
      "    Calculating ℰ_magnetic,"
     ]
    },
    {
     "name": "stderr",
     "output_type": "stream",
     "text": [
      "WARNING:py.warnings:D:\\Anaconda\\envs\\metal_test_env\\lib\\site-packages\\pyEPR\\core_distributed_analysis.py:981: FutureWarning: The default dtype for empty Series will be 'object' instead of 'float64' in a future version. Specify a dtype explicitly to silence this warning.\n",
      "  Sj = pd.Series({})\n",
      "\n"
     ]
    },
    {
     "name": "stdout",
     "output_type": "stream",
     "text": [
      "ℰ_electric\n",
      "       (ℰ_E-ℰ_H)/ℰ_E       ℰ_E       ℰ_H\n",
      "               99.3%  5.779e-25  4.26e-27\n",
      "\n",
      "    Calculating junction energy participation ration (EPR)\n",
      "\tmethod=`line_voltage`. First estimates:\n",
      "\tjunction        EPR p_0j   sign s_0j    (p_capacitive)\n"
     ]
    },
    {
     "name": "stderr",
     "output_type": "stream",
     "text": [
      "WARNING:py.warnings:D:\\Anaconda\\envs\\metal_test_env\\lib\\site-packages\\pyEPR\\core_distributed_analysis.py:933: FutureWarning: The default dtype for empty Series will be 'object' instead of 'float64' in a future version. Specify a dtype explicitly to silence this warning.\n",
      "  Qp = pd.Series({})\n",
      "\n",
      "WARNING:py.warnings:D:\\Anaconda\\envs\\metal_test_env\\lib\\site-packages\\pyEPR\\core_distributed_analysis.py:1307: FutureWarning: The series.append method is deprecated and will be removed from pandas in a future version. Use pandas.concat instead.\n",
      "  sol = sol.append(self.get_Qdielectric(\n",
      "\n"
     ]
    },
    {
     "name": "stdout",
     "output_type": "stream",
     "text": [
      "\t\tEnergy fraction (Lj over Lj&Cj)= 98.08%\n",
      "\tjj              0.991525  (+)        0.0194467\n",
      "\t\t(U_tot_cap-U_tot_ind)/mean=1.02%\n",
      "Calculating Qdielectric_main for mode 0 (0/0)\n",
      "p_dielectric_main_0 = 0.9187801877795768\n"
     ]
    },
    {
     "name": "stderr",
     "output_type": "stream",
     "text": [
      "WARNING:py.warnings:D:\\Anaconda\\envs\\metal_test_env\\lib\\site-packages\\pyEPR\\project_info.py:239: FutureWarning: The default dtype for empty Series will be 'object' instead of 'float64' in a future version. Specify a dtype explicitly to silence this warning.\n",
      "  options=pd.Series(get_instance_vars(self.options)),\n",
      "\n",
      "WARNING 04:24PM [__init__]: <p>Error: <class 'IndexError'></p>\n",
      "WARNING:py.warnings:D:\\Anaconda\\envs\\metal_test_env\\lib\\site-packages\\pyEPR\\core_quantum_analysis.py:712: FutureWarning: Support for multi-dimensional indexing (e.g. `obj[:, None]`) is deprecated and will be removed in a future version.  Convert to a numpy array before indexing instead.\n",
      "  result['Q_coupling'] = self.Qm_coupling[variation][self.Qm_coupling[variation].columns[junctions]][modes]#TODO change the columns to junctions\n",
      "\n",
      "WARNING:py.warnings:D:\\Anaconda\\envs\\metal_test_env\\lib\\site-packages\\pyEPR\\core_quantum_analysis.py:717: FutureWarning: Support for multi-dimensional indexing (e.g. `obj[:, None]`) is deprecated and will be removed in a future version.  Convert to a numpy array before indexing instead.\n",
      "  result['Qs'] = self.Qs[variation][self.PM[variation].columns[junctions]][modes] #TODO change the columns to junctions\n",
      "\n"
     ]
    },
    {
     "name": "stdout",
     "output_type": "stream",
     "text": [
      "\n",
      "ANALYSIS DONE. Data saved to:\n",
      "\n",
      "C:\\data-pyEPR\\Project64\\Design_hfss31\\2022-12-29 16-24-11.npz\n",
      "\n",
      "\n",
      "\t Differences in variations:\n",
      "\n",
      "\n",
      "\n",
      " . . . . . . . . . . . . . . . . . . . . . . . . . . . . . . . . . . . . . . . . \n",
      "Variation 0\n",
      "\n",
      "Starting the diagonalization\n",
      "Finished the diagonalization\n",
      "Pm_norm=\n",
      "modes\n",
      "0    1.02065\n",
      "dtype: float64\n",
      "\n",
      "Pm_norm idx =\n",
      "     jj\n",
      "0  True\n",
      "*** P (participation matrix, not normlz.)\n",
      "         jj\n",
      "0  0.972611\n",
      "\n",
      "*** S (sign-bit matrix)\n",
      "   s_jj\n",
      "0     1\n",
      "*** P (participation matrix, normalized.)\n",
      "      0.99\n",
      "\n",
      "*** Chi matrix O1 PT (MHz)\n",
      "    Diag is anharmonicity, off diag is full cross-Kerr.\n",
      "       187\n",
      "\n",
      "*** Chi matrix ND (MHz) \n",
      "       204\n",
      "\n",
      "*** Frequencies O1 PT (MHz)\n",
      "0    4796.795222\n",
      "dtype: float64\n",
      "\n",
      "*** Frequencies ND (MHz)\n",
      "0    4789.140153\n",
      "dtype: float64\n",
      "\n",
      "*** Q_coupling\n",
      "Empty DataFrame\n",
      "Columns: []\n",
      "Index: [0]\n"
     ]
    },
    {
     "data": {
      "text/markdown": [
       "#### Mode frequencies (MHz)"
      ],
      "text/plain": [
       "<IPython.core.display.Markdown object>"
      ]
     },
     "metadata": {},
     "output_type": "display_data"
    },
    {
     "data": {
      "text/markdown": [
       "###### Numerical diagonalization"
      ],
      "text/plain": [
       "<IPython.core.display.Markdown object>"
      ]
     },
     "metadata": {},
     "output_type": "display_data"
    },
    {
     "data": {
      "text/html": [
       "<div>\n",
       "<style scoped>\n",
       "    .dataframe tbody tr th:only-of-type {\n",
       "        vertical-align: middle;\n",
       "    }\n",
       "\n",
       "    .dataframe tbody tr th {\n",
       "        vertical-align: top;\n",
       "    }\n",
       "\n",
       "    .dataframe thead th {\n",
       "        text-align: right;\n",
       "    }\n",
       "</style>\n",
       "<table border=\"1\" class=\"dataframe\">\n",
       "  <thead>\n",
       "    <tr style=\"text-align: right;\">\n",
       "      <th>Lj</th>\n",
       "      <th>10</th>\n",
       "    </tr>\n",
       "  </thead>\n",
       "  <tbody>\n",
       "    <tr>\n",
       "      <th>0</th>\n",
       "      <td>4789.14</td>\n",
       "    </tr>\n",
       "  </tbody>\n",
       "</table>\n",
       "</div>"
      ],
      "text/plain": [
       "Lj       10\n",
       "0   4789.14"
      ]
     },
     "metadata": {},
     "output_type": "display_data"
    },
    {
     "data": {
      "text/markdown": [
       "#### Kerr Non-linear coefficient table (MHz)"
      ],
      "text/plain": [
       "<IPython.core.display.Markdown object>"
      ]
     },
     "metadata": {},
     "output_type": "display_data"
    },
    {
     "data": {
      "text/markdown": [
       "###### Numerical diagonalization"
      ],
      "text/plain": [
       "<IPython.core.display.Markdown object>"
      ]
     },
     "metadata": {},
     "output_type": "display_data"
    },
    {
     "data": {
      "text/html": [
       "<div>\n",
       "<style scoped>\n",
       "    .dataframe tbody tr th:only-of-type {\n",
       "        vertical-align: middle;\n",
       "    }\n",
       "\n",
       "    .dataframe tbody tr th {\n",
       "        vertical-align: top;\n",
       "    }\n",
       "\n",
       "    .dataframe thead th {\n",
       "        text-align: right;\n",
       "    }\n",
       "</style>\n",
       "<table border=\"1\" class=\"dataframe\">\n",
       "  <thead>\n",
       "    <tr style=\"text-align: right;\">\n",
       "      <th></th>\n",
       "      <th></th>\n",
       "      <th>0</th>\n",
       "    </tr>\n",
       "    <tr>\n",
       "      <th>Lj</th>\n",
       "      <th></th>\n",
       "      <th></th>\n",
       "    </tr>\n",
       "  </thead>\n",
       "  <tbody>\n",
       "    <tr>\n",
       "      <th>10</th>\n",
       "      <th>0</th>\n",
       "      <td>203.61</td>\n",
       "    </tr>\n",
       "  </tbody>\n",
       "</table>\n",
       "</div>"
      ],
      "text/plain": [
       "           0\n",
       "Lj          \n",
       "10 0  203.61"
      ]
     },
     "metadata": {},
     "output_type": "display_data"
    },
    {
     "name": "stderr",
     "output_type": "stream",
     "text": [
      "WARNING:py.warnings:D:\\Clark/LFL_QubitLibraries\\QubitPresimulated\\librarian.py:68: FutureWarning: The frame.append method is deprecated and will be removed from pandas in a future version. Use pandas.concat instead.\n",
      "  self.qoptions_data = self.qoptions_data.append(dict(zip(keys, values)), ignore_index=True)\n",
      "\n",
      "WARNING:py.warnings:D:\\Clark/LFL_QubitLibraries\\QubitPresimulated\\librarian.py:70: FutureWarning: The frame.append method is deprecated and will be removed from pandas in a future version. Use pandas.concat instead.\n",
      "  self.simulations_data = self.simulations_data.append(dict(zip(keys, values)), ignore_index=True)\n",
      "\n",
      " 75%|███████████████████████████████████████████████████████████████                     | 3/4 [01:51<00:37, 37.81s/it]WARNING:py.warnings:D:\\Anaconda\\envs\\metal_test_env\\lib\\site-packages\\pandas\\core\\dtypes\\cast.py:122: ShapelyDeprecationWarning: The array interface is deprecated and will no longer work in Shapely 2.0. Convert the '.coords' to a numpy array instead.\n",
      "  arr = construct_1d_object_array_from_listlike(values)\n",
      "\n"
     ]
    },
    {
     "name": "stdout",
     "output_type": "stream",
     "text": [
      "Simulated and logged configuration: {'cross_width': '30um', 'cross_length': '150um'}\n"
     ]
    },
    {
     "name": "stderr",
     "output_type": "stream",
     "text": [
      "INFO 04:24PM [connect_design]: \tOpened active design\n",
      "\tDesign:    Design_hfss32 [Solution type: Eigenmode]\n",
      "WARNING 04:24PM [connect_setup]: \tNo design setup detected.\n",
      "WARNING 04:24PM [connect_setup]: \tCreating eigenmode default setup.\n",
      "INFO 04:24PM [get_setup]: \tOpened setup `Setup`  (<class 'pyEPR.ansys.HfssEMSetup'>)\n",
      "INFO 04:24PM [get_setup]: \tOpened setup `Setup`  (<class 'pyEPR.ansys.HfssEMSetup'>)\n",
      "INFO 04:24PM [analyze]: Analyzing setup Setup\n",
      "04:24PM 50s INFO [get_f_convergence]: Saved convergences to D:\\Clark\\LFL_QubitLibraries\\testing\\hfss_eig_f_convergence.csv\n"
     ]
    },
    {
     "name": "stdout",
     "output_type": "stream",
     "text": [
      "Design \"Design_hfss32\" info:\n",
      "\t# eigenmodes    1\n",
      "\t# variations    1\n",
      "Design \"Design_hfss32\" info:\n",
      "\t# eigenmodes    1\n",
      "\t# variations    1\n"
     ]
    },
    {
     "name": "stderr",
     "output_type": "stream",
     "text": [
      "WARNING:py.warnings:D:\\Anaconda\\envs\\metal_test_env\\lib\\site-packages\\pyEPR\\project_info.py:239: FutureWarning: The default dtype for empty Series will be 'object' instead of 'float64' in a future version. Specify a dtype explicitly to silence this warning.\n",
      "  options=pd.Series(get_instance_vars(self.options)),\n",
      "\n"
     ]
    },
    {
     "name": "stdout",
     "output_type": "stream",
     "text": [
      "\n",
      "        energy_elec_all       = 5.1565587156194e-24\n",
      "        energy_elec_substrate = 4.73152832513243e-24\n",
      "        EPR of substrate = 91.8%\n",
      "\n",
      "        energy_mag    = 7.90374346227157e-26\n",
      "        energy_mag % of energy_elec_all  = 1.5%\n",
      "        \n",
      "\n",
      "Variation 0  [1/1]\n"
     ]
    },
    {
     "name": "stderr",
     "output_type": "stream",
     "text": [
      "WARNING:py.warnings:D:\\Anaconda\\envs\\metal_test_env\\lib\\site-packages\\pyEPR\\core_distributed_analysis.py:1101: FutureWarning: The default dtype for empty Series will be 'object' instead of 'float64' in a future version. Specify a dtype explicitly to silence this warning.\n",
      "  Ljs = pd.Series({})\n",
      "\n",
      "WARNING:py.warnings:D:\\Anaconda\\envs\\metal_test_env\\lib\\site-packages\\pyEPR\\core_distributed_analysis.py:1102: FutureWarning: The default dtype for empty Series will be 'object' instead of 'float64' in a future version. Specify a dtype explicitly to silence this warning.\n",
      "  Cjs = pd.Series({})\n",
      "\n",
      "WARNING:py.warnings:D:\\Anaconda\\envs\\metal_test_env\\lib\\site-packages\\pyEPR\\core_distributed_analysis.py:1245: FutureWarning: The default dtype for empty Series will be 'object' instead of 'float64' in a future version. Specify a dtype explicitly to silence this warning.\n",
      "  _Om = pd.Series({})\n",
      "\n"
     ]
    },
    {
     "name": "stdout",
     "output_type": "stream",
     "text": [
      "\n",
      "  \u001b[1mMode 0 at 3.13 GHz   [1/1]\u001b[0m\n",
      "    Calculating ℰ_magnetic,"
     ]
    },
    {
     "name": "stderr",
     "output_type": "stream",
     "text": [
      "WARNING:py.warnings:D:\\Anaconda\\envs\\metal_test_env\\lib\\site-packages\\pyEPR\\core_distributed_analysis.py:981: FutureWarning: The default dtype for empty Series will be 'object' instead of 'float64' in a future version. Specify a dtype explicitly to silence this warning.\n",
      "  Sj = pd.Series({})\n",
      "\n"
     ]
    },
    {
     "name": "stdout",
     "output_type": "stream",
     "text": [
      "ℰ_electric\n",
      "       (ℰ_E-ℰ_H)/ℰ_E       ℰ_E       ℰ_H\n",
      "               98.5%  2.578e-24 3.952e-26\n",
      "\n",
      "    Calculating junction energy participation ration (EPR)\n",
      "\tmethod=`line_voltage`. First estimates:\n",
      "\tjunction        EPR p_0j   sign s_0j    (p_capacitive)\n"
     ]
    },
    {
     "name": "stderr",
     "output_type": "stream",
     "text": [
      "WARNING:py.warnings:D:\\Anaconda\\envs\\metal_test_env\\lib\\site-packages\\pyEPR\\core_distributed_analysis.py:933: FutureWarning: The default dtype for empty Series will be 'object' instead of 'float64' in a future version. Specify a dtype explicitly to silence this warning.\n",
      "  Qp = pd.Series({})\n",
      "\n",
      "WARNING:py.warnings:D:\\Anaconda\\envs\\metal_test_env\\lib\\site-packages\\pyEPR\\core_distributed_analysis.py:1307: FutureWarning: The series.append method is deprecated and will be removed from pandas in a future version. Use pandas.concat instead.\n",
      "  sol = sol.append(self.get_Qdielectric(\n",
      "\n"
     ]
    },
    {
     "name": "stdout",
     "output_type": "stream",
     "text": [
      "\t\tEnergy fraction (Lj over Lj&Cj)= 99.23%\n",
      "\tjj              0.983605  (+)        0.0075864\n",
      "\t\t(U_tot_cap-U_tot_ind)/mean=0.43%\n",
      "Calculating Qdielectric_main for mode 0 (0/0)\n",
      "p_dielectric_main_0 = 0.9175747986346907\n"
     ]
    },
    {
     "name": "stderr",
     "output_type": "stream",
     "text": [
      "WARNING:py.warnings:D:\\Anaconda\\envs\\metal_test_env\\lib\\site-packages\\pyEPR\\project_info.py:239: FutureWarning: The default dtype for empty Series will be 'object' instead of 'float64' in a future version. Specify a dtype explicitly to silence this warning.\n",
      "  options=pd.Series(get_instance_vars(self.options)),\n",
      "\n",
      "WARNING 04:24PM [__init__]: <p>Error: <class 'IndexError'></p>\n",
      "WARNING:py.warnings:D:\\Anaconda\\envs\\metal_test_env\\lib\\site-packages\\pyEPR\\core_quantum_analysis.py:712: FutureWarning: Support for multi-dimensional indexing (e.g. `obj[:, None]`) is deprecated and will be removed in a future version.  Convert to a numpy array before indexing instead.\n",
      "  result['Q_coupling'] = self.Qm_coupling[variation][self.Qm_coupling[variation].columns[junctions]][modes]#TODO change the columns to junctions\n",
      "\n",
      "WARNING:py.warnings:D:\\Anaconda\\envs\\metal_test_env\\lib\\site-packages\\pyEPR\\core_quantum_analysis.py:717: FutureWarning: Support for multi-dimensional indexing (e.g. `obj[:, None]`) is deprecated and will be removed in a future version.  Convert to a numpy array before indexing instead.\n",
      "  result['Qs'] = self.Qs[variation][self.PM[variation].columns[junctions]][modes] #TODO change the columns to junctions\n",
      "\n"
     ]
    },
    {
     "name": "stdout",
     "output_type": "stream",
     "text": [
      "\n",
      "ANALYSIS DONE. Data saved to:\n",
      "\n",
      "C:\\data-pyEPR\\Project64\\Design_hfss32\\2022-12-29 16-24-50.npz\n",
      "\n",
      "\n",
      "\t Differences in variations:\n",
      "\n",
      "\n",
      "\n",
      " . . . . . . . . . . . . . . . . . . . . . . . . . . . . . . . . . . . . . . . . \n",
      "Variation 0\n",
      "\n",
      "Starting the diagonalization\n",
      "Finished the diagonalization\n",
      "Pm_norm=\n",
      "modes\n",
      "0    1.008731\n",
      "dtype: float64\n",
      "\n",
      "Pm_norm idx =\n",
      "     jj\n",
      "0  True\n",
      "*** P (participation matrix, not normlz.)\n",
      "         jj\n",
      "0  0.976199\n",
      "\n",
      "*** S (sign-bit matrix)\n",
      "   s_jj\n",
      "0     1\n",
      "*** P (participation matrix, normalized.)\n",
      "      0.98\n",
      "\n",
      "*** Chi matrix O1 PT (MHz)\n",
      "    Diag is anharmonicity, off diag is full cross-Kerr.\n",
      "      72.4\n",
      "\n",
      "*** Chi matrix ND (MHz) \n",
      "      76.3\n",
      "\n",
      "*** Frequencies O1 PT (MHz)\n",
      "0    3053.016608\n",
      "dtype: float64\n",
      "\n",
      "*** Frequencies ND (MHz)\n",
      "0    3051.268306\n",
      "dtype: float64\n",
      "\n",
      "*** Q_coupling\n",
      "Empty DataFrame\n",
      "Columns: []\n",
      "Index: [0]\n"
     ]
    },
    {
     "data": {
      "text/markdown": [
       "#### Mode frequencies (MHz)"
      ],
      "text/plain": [
       "<IPython.core.display.Markdown object>"
      ]
     },
     "metadata": {},
     "output_type": "display_data"
    },
    {
     "data": {
      "text/markdown": [
       "###### Numerical diagonalization"
      ],
      "text/plain": [
       "<IPython.core.display.Markdown object>"
      ]
     },
     "metadata": {},
     "output_type": "display_data"
    },
    {
     "data": {
      "text/html": [
       "<div>\n",
       "<style scoped>\n",
       "    .dataframe tbody tr th:only-of-type {\n",
       "        vertical-align: middle;\n",
       "    }\n",
       "\n",
       "    .dataframe tbody tr th {\n",
       "        vertical-align: top;\n",
       "    }\n",
       "\n",
       "    .dataframe thead th {\n",
       "        text-align: right;\n",
       "    }\n",
       "</style>\n",
       "<table border=\"1\" class=\"dataframe\">\n",
       "  <thead>\n",
       "    <tr style=\"text-align: right;\">\n",
       "      <th>Lj</th>\n",
       "      <th>10</th>\n",
       "    </tr>\n",
       "  </thead>\n",
       "  <tbody>\n",
       "    <tr>\n",
       "      <th>0</th>\n",
       "      <td>3051.27</td>\n",
       "    </tr>\n",
       "  </tbody>\n",
       "</table>\n",
       "</div>"
      ],
      "text/plain": [
       "Lj       10\n",
       "0   3051.27"
      ]
     },
     "metadata": {},
     "output_type": "display_data"
    },
    {
     "data": {
      "text/markdown": [
       "#### Kerr Non-linear coefficient table (MHz)"
      ],
      "text/plain": [
       "<IPython.core.display.Markdown object>"
      ]
     },
     "metadata": {},
     "output_type": "display_data"
    },
    {
     "data": {
      "text/markdown": [
       "###### Numerical diagonalization"
      ],
      "text/plain": [
       "<IPython.core.display.Markdown object>"
      ]
     },
     "metadata": {},
     "output_type": "display_data"
    },
    {
     "data": {
      "text/html": [
       "<div>\n",
       "<style scoped>\n",
       "    .dataframe tbody tr th:only-of-type {\n",
       "        vertical-align: middle;\n",
       "    }\n",
       "\n",
       "    .dataframe tbody tr th {\n",
       "        vertical-align: top;\n",
       "    }\n",
       "\n",
       "    .dataframe thead th {\n",
       "        text-align: right;\n",
       "    }\n",
       "</style>\n",
       "<table border=\"1\" class=\"dataframe\">\n",
       "  <thead>\n",
       "    <tr style=\"text-align: right;\">\n",
       "      <th></th>\n",
       "      <th></th>\n",
       "      <th>0</th>\n",
       "    </tr>\n",
       "    <tr>\n",
       "      <th>Lj</th>\n",
       "      <th></th>\n",
       "      <th></th>\n",
       "    </tr>\n",
       "  </thead>\n",
       "  <tbody>\n",
       "    <tr>\n",
       "      <th>10</th>\n",
       "      <th>0</th>\n",
       "      <td>76.28</td>\n",
       "    </tr>\n",
       "  </tbody>\n",
       "</table>\n",
       "</div>"
      ],
      "text/plain": [
       "          0\n",
       "Lj         \n",
       "10 0  76.28"
      ]
     },
     "metadata": {},
     "output_type": "display_data"
    },
    {
     "name": "stderr",
     "output_type": "stream",
     "text": [
      "WARNING:py.warnings:D:\\Clark/LFL_QubitLibraries\\QubitPresimulated\\librarian.py:68: FutureWarning: The frame.append method is deprecated and will be removed from pandas in a future version. Use pandas.concat instead.\n",
      "  self.qoptions_data = self.qoptions_data.append(dict(zip(keys, values)), ignore_index=True)\n",
      "\n",
      "WARNING:py.warnings:D:\\Clark/LFL_QubitLibraries\\QubitPresimulated\\librarian.py:70: FutureWarning: The frame.append method is deprecated and will be removed from pandas in a future version. Use pandas.concat instead.\n",
      "  self.simulations_data = self.simulations_data.append(dict(zip(keys, values)), ignore_index=True)\n",
      "\n",
      "100%|████████████████████████████████████████████████████████████████████████████████████| 4/4 [02:27<00:00, 36.81s/it]"
     ]
    },
    {
     "name": "stdout",
     "output_type": "stream",
     "text": [
      "Simulated and logged configuration: {'cross_width': '30um', 'cross_length': '350um'}\n"
     ]
    },
    {
     "name": "stderr",
     "output_type": "stream",
     "text": [
      "\n"
     ]
    },
    {
     "data": {
      "text/plain": [
       "<QubitPresimulated.librarian.QLibrarian at 0x158e62e9cc0>"
      ]
     },
     "execution_count": 11,
     "metadata": {},
     "output_type": "execute_result"
    }
   ],
   "source": [
    "# Tell the program which component you want to sweep through\n",
    "target_component = 'xmon'\n",
    "\n",
    "# and which parameter to change. The format of this dict is the same as\n",
    "# QComponent.options. So if you want to change claw_length:\n",
    "# parameters_to_sweep = {'connection_pads':{'res_claw':{'claw_length':[1,2,3]}}}\n",
    "\n",
    "# Basically, instead of having strings / floats as values\n",
    "# you now have lists of values you want to sweep over.\n",
    "parameters_to_sweep = {'cross_width': ['10um', '30um'],\n",
    "                      'cross_length': ['150um','350um']}\n",
    "\n",
    "# Anything after save_path is put in **kwargs which gets sent to\n",
    "# analysis.run(**kwargs)\n",
    "sweeper.run_sweep(component_name = target_component,\n",
    "                  parameters = parameters_to_sweep,\n",
    "                  data_name = None,\n",
    "                  save_path = r'./QSweeper_Tutorial.csv',\n",
    "                  components=['xmon']) # REQUIRED: must declare components= for this to wor\n"
   ]
  },
  {
   "cell_type": "markdown",
   "id": "aa1a51e3",
   "metadata": {},
   "source": [
    "# Checking the results!\n",
    "Results get stored in `QSweeper.librarian`. It is an object named `QLibrarian`. For how to use this, I've included a separate tutorial."
   ]
  },
  {
   "cell_type": "code",
   "execution_count": 12,
   "id": "ec5a80d8",
   "metadata": {},
   "outputs": [
    {
     "data": {
      "text/plain": [
       "QubitPresimulated.librarian.QLibrarian"
      ]
     },
     "execution_count": 12,
     "metadata": {},
     "output_type": "execute_result"
    }
   ],
   "source": [
    "lib = sweeper.librarian\n",
    "type(lib)"
   ]
  },
  {
   "cell_type": "code",
   "execution_count": 13,
   "id": "d1a6a1a6",
   "metadata": {},
   "outputs": [
    {
     "data": {
      "text/html": [
       "<div>\n",
       "<style scoped>\n",
       "    .dataframe tbody tr th:only-of-type {\n",
       "        vertical-align: middle;\n",
       "    }\n",
       "\n",
       "    .dataframe tbody tr th {\n",
       "        vertical-align: top;\n",
       "    }\n",
       "\n",
       "    .dataframe thead th {\n",
       "        text-align: right;\n",
       "    }\n",
       "</style>\n",
       "<table border=\"1\" class=\"dataframe\">\n",
       "  <thead>\n",
       "    <tr style=\"text-align: right;\">\n",
       "      <th></th>\n",
       "      <th>pos_x</th>\n",
       "      <th>pos_y</th>\n",
       "      <th>orientation</th>\n",
       "      <th>chip</th>\n",
       "      <th>layer</th>\n",
       "      <th>cross_width</th>\n",
       "      <th>cross_length</th>\n",
       "      <th>cross_gap</th>\n",
       "      <th>hfss_inductance</th>\n",
       "      <th>hfss_capacitance</th>\n",
       "      <th>hfss_resistance</th>\n",
       "      <th>hfss_mesh_kw_jj</th>\n",
       "      <th>q3d_inductance</th>\n",
       "      <th>q3d_capacitance</th>\n",
       "      <th>q3d_resistance</th>\n",
       "      <th>q3d_mesh_kw_jj</th>\n",
       "      <th>gds_cell_name</th>\n",
       "    </tr>\n",
       "  </thead>\n",
       "  <tbody>\n",
       "    <tr>\n",
       "      <th>0</th>\n",
       "      <td>0.0um</td>\n",
       "      <td>0.0um</td>\n",
       "      <td>0.0</td>\n",
       "      <td>main</td>\n",
       "      <td>1</td>\n",
       "      <td>10um</td>\n",
       "      <td>150um</td>\n",
       "      <td>20um</td>\n",
       "      <td>10nH</td>\n",
       "      <td>0</td>\n",
       "      <td>0</td>\n",
       "      <td>0.000007</td>\n",
       "      <td>10nH</td>\n",
       "      <td>0</td>\n",
       "      <td>0</td>\n",
       "      <td>0.000007</td>\n",
       "      <td>my_other_junction</td>\n",
       "    </tr>\n",
       "    <tr>\n",
       "      <th>1</th>\n",
       "      <td>0.0um</td>\n",
       "      <td>0.0um</td>\n",
       "      <td>0.0</td>\n",
       "      <td>main</td>\n",
       "      <td>1</td>\n",
       "      <td>10um</td>\n",
       "      <td>350um</td>\n",
       "      <td>20um</td>\n",
       "      <td>10nH</td>\n",
       "      <td>0</td>\n",
       "      <td>0</td>\n",
       "      <td>0.000007</td>\n",
       "      <td>10nH</td>\n",
       "      <td>0</td>\n",
       "      <td>0</td>\n",
       "      <td>0.000007</td>\n",
       "      <td>my_other_junction</td>\n",
       "    </tr>\n",
       "    <tr>\n",
       "      <th>2</th>\n",
       "      <td>0.0um</td>\n",
       "      <td>0.0um</td>\n",
       "      <td>0.0</td>\n",
       "      <td>main</td>\n",
       "      <td>1</td>\n",
       "      <td>30um</td>\n",
       "      <td>150um</td>\n",
       "      <td>20um</td>\n",
       "      <td>10nH</td>\n",
       "      <td>0</td>\n",
       "      <td>0</td>\n",
       "      <td>0.000007</td>\n",
       "      <td>10nH</td>\n",
       "      <td>0</td>\n",
       "      <td>0</td>\n",
       "      <td>0.000007</td>\n",
       "      <td>my_other_junction</td>\n",
       "    </tr>\n",
       "    <tr>\n",
       "      <th>3</th>\n",
       "      <td>0.0um</td>\n",
       "      <td>0.0um</td>\n",
       "      <td>0.0</td>\n",
       "      <td>main</td>\n",
       "      <td>1</td>\n",
       "      <td>30um</td>\n",
       "      <td>350um</td>\n",
       "      <td>20um</td>\n",
       "      <td>10nH</td>\n",
       "      <td>0</td>\n",
       "      <td>0</td>\n",
       "      <td>0.000007</td>\n",
       "      <td>10nH</td>\n",
       "      <td>0</td>\n",
       "      <td>0</td>\n",
       "      <td>0.000007</td>\n",
       "      <td>my_other_junction</td>\n",
       "    </tr>\n",
       "  </tbody>\n",
       "</table>\n",
       "</div>"
      ],
      "text/plain": [
       "   pos_x  pos_y orientation  chip layer cross_width cross_length cross_gap  \\\n",
       "0  0.0um  0.0um         0.0  main     1        10um        150um      20um   \n",
       "1  0.0um  0.0um         0.0  main     1        10um        350um      20um   \n",
       "2  0.0um  0.0um         0.0  main     1        30um        150um      20um   \n",
       "3  0.0um  0.0um         0.0  main     1        30um        350um      20um   \n",
       "\n",
       "  hfss_inductance  hfss_capacitance  hfss_resistance  hfss_mesh_kw_jj  \\\n",
       "0            10nH                 0                0         0.000007   \n",
       "1            10nH                 0                0         0.000007   \n",
       "2            10nH                 0                0         0.000007   \n",
       "3            10nH                 0                0         0.000007   \n",
       "\n",
       "  q3d_inductance  q3d_capacitance  q3d_resistance  q3d_mesh_kw_jj  \\\n",
       "0           10nH                0               0        0.000007   \n",
       "1           10nH                0               0        0.000007   \n",
       "2           10nH                0               0        0.000007   \n",
       "3           10nH                0               0        0.000007   \n",
       "\n",
       "       gds_cell_name  \n",
       "0  my_other_junction  \n",
       "1  my_other_junction  \n",
       "2  my_other_junction  \n",
       "3  my_other_junction  "
      ]
     },
     "execution_count": 13,
     "metadata": {},
     "output_type": "execute_result"
    }
   ],
   "source": [
    "lib.qoptions_data"
   ]
  },
  {
   "cell_type": "code",
   "execution_count": 18,
   "id": "90725cc0",
   "metadata": {},
   "outputs": [
    {
     "data": {
      "text/html": [
       "<div>\n",
       "<style scoped>\n",
       "    .dataframe tbody tr th:only-of-type {\n",
       "        vertical-align: middle;\n",
       "    }\n",
       "\n",
       "    .dataframe tbody tr th {\n",
       "        vertical-align: top;\n",
       "    }\n",
       "\n",
       "    .dataframe thead th {\n",
       "        text-align: right;\n",
       "    }\n",
       "</style>\n",
       "<table border=\"1\" class=\"dataframe\">\n",
       "  <thead>\n",
       "    <tr style=\"text-align: right;\">\n",
       "      <th></th>\n",
       "      <th>energy_elec</th>\n",
       "      <th>energy_elec_sub</th>\n",
       "      <th>energy_mag</th>\n",
       "    </tr>\n",
       "  </thead>\n",
       "  <tbody>\n",
       "    <tr>\n",
       "      <th>0</th>\n",
       "      <td>8.211878e-25</td>\n",
       "      <td>7.536213e-25</td>\n",
       "      <td>8.055156e-27</td>\n",
       "    </tr>\n",
       "    <tr>\n",
       "      <th>1</th>\n",
       "      <td>4.108442e-24</td>\n",
       "      <td>3.729588e-24</td>\n",
       "      <td>8.072458e-26</td>\n",
       "    </tr>\n",
       "    <tr>\n",
       "      <th>2</th>\n",
       "      <td>1.155816e-24</td>\n",
       "      <td>1.061941e-24</td>\n",
       "      <td>8.520486e-27</td>\n",
       "    </tr>\n",
       "    <tr>\n",
       "      <th>3</th>\n",
       "      <td>5.156559e-24</td>\n",
       "      <td>4.731528e-24</td>\n",
       "      <td>7.903743e-26</td>\n",
       "    </tr>\n",
       "  </tbody>\n",
       "</table>\n",
       "</div>"
      ],
      "text/plain": [
       "    energy_elec  energy_elec_sub    energy_mag\n",
       "0  8.211878e-25     7.536213e-25  8.055156e-27\n",
       "1  4.108442e-24     3.729588e-24  8.072458e-26\n",
       "2  1.155816e-24     1.061941e-24  8.520486e-27\n",
       "3  5.156559e-24     4.731528e-24  7.903743e-26"
      ]
     },
     "execution_count": 18,
     "metadata": {},
     "output_type": "execute_result"
    }
   ],
   "source": [
    "lib.simulations_data"
   ]
  },
  {
   "cell_type": "markdown",
   "id": "34367c3e",
   "metadata": {},
   "source": [
    "As we can see, the indexes correspond from one to the other."
   ]
  },
  {
   "cell_type": "markdown",
   "id": "7509e987",
   "metadata": {},
   "source": [
    "# Note: Autosaving Data\n",
    "\n",
    "In these Ansys simulations, there's a high chance your run will become broken midway through. So `QSweeper` will autosave each indvidual simulation to a `.csv` file for record keeping.\n",
    "\n",
    "When initalizing `QSweeper`, recall we input a `save_path = r'./QSweeper_Tutorial.cvs'`. Let's load that in.\n",
    "\n",
    "**Notice**, we separate `QLibrarian.qoptions_data` and `QLibrarian.simulations_data` by a column called `__SPLITTER__`"
   ]
  },
  {
   "cell_type": "code",
   "execution_count": 45,
   "id": "dc658361",
   "metadata": {},
   "outputs": [
    {
     "data": {
      "text/html": [
       "<div>\n",
       "<style scoped>\n",
       "    .dataframe tbody tr th:only-of-type {\n",
       "        vertical-align: middle;\n",
       "    }\n",
       "\n",
       "    .dataframe tbody tr th {\n",
       "        vertical-align: top;\n",
       "    }\n",
       "\n",
       "    .dataframe thead th {\n",
       "        text-align: right;\n",
       "    }\n",
       "</style>\n",
       "<table border=\"1\" class=\"dataframe\">\n",
       "  <thead>\n",
       "    <tr style=\"text-align: right;\">\n",
       "      <th></th>\n",
       "      <th>pos_x</th>\n",
       "      <th>pos_y</th>\n",
       "      <th>orientation</th>\n",
       "      <th>chip</th>\n",
       "      <th>layer</th>\n",
       "      <th>cross_width</th>\n",
       "      <th>cross_length</th>\n",
       "      <th>cross_gap</th>\n",
       "      <th>hfss_inductance</th>\n",
       "      <th>hfss_capacitance</th>\n",
       "      <th>...</th>\n",
       "      <th>hfss_mesh_kw_jj</th>\n",
       "      <th>q3d_inductance</th>\n",
       "      <th>q3d_capacitance</th>\n",
       "      <th>q3d_resistance</th>\n",
       "      <th>q3d_mesh_kw_jj</th>\n",
       "      <th>gds_cell_name</th>\n",
       "      <th>__SPLITTER__</th>\n",
       "      <th>energy_elec</th>\n",
       "      <th>energy_elec_sub</th>\n",
       "      <th>energy_mag</th>\n",
       "    </tr>\n",
       "  </thead>\n",
       "  <tbody>\n",
       "    <tr>\n",
       "      <th>0</th>\n",
       "      <td>0.0um</td>\n",
       "      <td>0.0um</td>\n",
       "      <td>0.0</td>\n",
       "      <td>main</td>\n",
       "      <td>1</td>\n",
       "      <td>10um</td>\n",
       "      <td>150um</td>\n",
       "      <td>20um</td>\n",
       "      <td>10nH</td>\n",
       "      <td>0</td>\n",
       "      <td>...</td>\n",
       "      <td>0.000007</td>\n",
       "      <td>10nH</td>\n",
       "      <td>0</td>\n",
       "      <td>0</td>\n",
       "      <td>0.000007</td>\n",
       "      <td>my_other_junction</td>\n",
       "      <td>NaN</td>\n",
       "      <td>8.211878e-25</td>\n",
       "      <td>7.536213e-25</td>\n",
       "      <td>8.055156e-27</td>\n",
       "    </tr>\n",
       "    <tr>\n",
       "      <th>1</th>\n",
       "      <td>0.0um</td>\n",
       "      <td>0.0um</td>\n",
       "      <td>0.0</td>\n",
       "      <td>main</td>\n",
       "      <td>1</td>\n",
       "      <td>10um</td>\n",
       "      <td>350um</td>\n",
       "      <td>20um</td>\n",
       "      <td>10nH</td>\n",
       "      <td>0</td>\n",
       "      <td>...</td>\n",
       "      <td>0.000007</td>\n",
       "      <td>10nH</td>\n",
       "      <td>0</td>\n",
       "      <td>0</td>\n",
       "      <td>0.000007</td>\n",
       "      <td>my_other_junction</td>\n",
       "      <td>NaN</td>\n",
       "      <td>4.108442e-24</td>\n",
       "      <td>3.729588e-24</td>\n",
       "      <td>8.072458e-26</td>\n",
       "    </tr>\n",
       "    <tr>\n",
       "      <th>2</th>\n",
       "      <td>0.0um</td>\n",
       "      <td>0.0um</td>\n",
       "      <td>0.0</td>\n",
       "      <td>main</td>\n",
       "      <td>1</td>\n",
       "      <td>30um</td>\n",
       "      <td>150um</td>\n",
       "      <td>20um</td>\n",
       "      <td>10nH</td>\n",
       "      <td>0</td>\n",
       "      <td>...</td>\n",
       "      <td>0.000007</td>\n",
       "      <td>10nH</td>\n",
       "      <td>0</td>\n",
       "      <td>0</td>\n",
       "      <td>0.000007</td>\n",
       "      <td>my_other_junction</td>\n",
       "      <td>NaN</td>\n",
       "      <td>1.155816e-24</td>\n",
       "      <td>1.061941e-24</td>\n",
       "      <td>8.520486e-27</td>\n",
       "    </tr>\n",
       "    <tr>\n",
       "      <th>3</th>\n",
       "      <td>0.0um</td>\n",
       "      <td>0.0um</td>\n",
       "      <td>0.0</td>\n",
       "      <td>main</td>\n",
       "      <td>1</td>\n",
       "      <td>30um</td>\n",
       "      <td>350um</td>\n",
       "      <td>20um</td>\n",
       "      <td>10nH</td>\n",
       "      <td>0</td>\n",
       "      <td>...</td>\n",
       "      <td>0.000007</td>\n",
       "      <td>10nH</td>\n",
       "      <td>0</td>\n",
       "      <td>0</td>\n",
       "      <td>0.000007</td>\n",
       "      <td>my_other_junction</td>\n",
       "      <td>NaN</td>\n",
       "      <td>5.156559e-24</td>\n",
       "      <td>4.731528e-24</td>\n",
       "      <td>7.903743e-26</td>\n",
       "    </tr>\n",
       "  </tbody>\n",
       "</table>\n",
       "<p>4 rows × 21 columns</p>\n",
       "</div>"
      ],
      "text/plain": [
       "   pos_x  pos_y  orientation  chip  layer cross_width cross_length cross_gap  \\\n",
       "0  0.0um  0.0um          0.0  main      1        10um        150um      20um   \n",
       "1  0.0um  0.0um          0.0  main      1        10um        350um      20um   \n",
       "2  0.0um  0.0um          0.0  main      1        30um        150um      20um   \n",
       "3  0.0um  0.0um          0.0  main      1        30um        350um      20um   \n",
       "\n",
       "  hfss_inductance  hfss_capacitance  ...  hfss_mesh_kw_jj  q3d_inductance  \\\n",
       "0            10nH                 0  ...         0.000007            10nH   \n",
       "1            10nH                 0  ...         0.000007            10nH   \n",
       "2            10nH                 0  ...         0.000007            10nH   \n",
       "3            10nH                 0  ...         0.000007            10nH   \n",
       "\n",
       "  q3d_capacitance  q3d_resistance  q3d_mesh_kw_jj      gds_cell_name  \\\n",
       "0               0               0        0.000007  my_other_junction   \n",
       "1               0               0        0.000007  my_other_junction   \n",
       "2               0               0        0.000007  my_other_junction   \n",
       "3               0               0        0.000007  my_other_junction   \n",
       "\n",
       "  __SPLITTER__   energy_elec  energy_elec_sub    energy_mag  \n",
       "0          NaN  8.211878e-25     7.536213e-25  8.055156e-27  \n",
       "1          NaN  4.108442e-24     3.729588e-24  8.072458e-26  \n",
       "2          NaN  1.155816e-24     1.061941e-24  8.520486e-27  \n",
       "3          NaN  5.156559e-24     4.731528e-24  7.903743e-26  \n",
       "\n",
       "[4 rows x 21 columns]"
      ]
     },
     "execution_count": 45,
     "metadata": {},
     "output_type": "execute_result"
    }
   ],
   "source": [
    "import pandas as pd\n",
    "\n",
    "df = pd.read_csv('./QSweeper_Tutorial.csv')\n",
    "df"
   ]
  }
 ],
 "metadata": {
  "kernelspec": {
   "display_name": "qiskit_metal",
   "language": "python",
   "name": "qiskit_metal"
  },
  "language_info": {
   "codemirror_mode": {
    "name": "ipython",
    "version": 3
   },
   "file_extension": ".py",
   "mimetype": "text/x-python",
   "name": "python",
   "nbconvert_exporter": "python",
   "pygments_lexer": "ipython3",
   "version": "3.10.5"
  }
 },
 "nbformat": 4,
 "nbformat_minor": 5
}
